{
  "nbformat": 4,
  "nbformat_minor": 0,
  "metadata": {
    "colab": {
      "name": "Stock Market Analysis and Prediction.ipynb",
      "provenance": [],
      "collapsed_sections": []
    },
    "kernelspec": {
      "name": "python3",
      "display_name": "Python 3"
    },
    "language_info": {
      "name": "python"
    }
  },
  "cells": [
    {
      "cell_type": "markdown",
      "source": [
        "<h1><b>Method 1: using Facebook prophet model</b></h1>"
      ],
      "metadata": {
        "id": "GlGN08qo8Zm_"
      }
    },
    {
      "cell_type": "code",
      "source": [
        "import warnings\n",
        "warnings.simplefilter('ignore')"
      ],
      "metadata": {
        "id": "v-AqooJgo7C5"
      },
      "execution_count": 29,
      "outputs": []
    },
    {
      "cell_type": "markdown",
      "source": [
        "<b>Importing the necessary libraries</b>"
      ],
      "metadata": {
        "id": "Szy9LRqX8lIo"
      }
    },
    {
      "cell_type": "code",
      "source": [
        "!pip install pystan\n",
        "!pip install fbprophet"
      ],
      "metadata": {
        "colab": {
          "base_uri": "https://localhost:8080/"
        },
        "id": "VwOr1PsTw4sq",
        "outputId": "f4ac217e-37c9-4b9f-fac2-8ec58a2c0c0a"
      },
      "execution_count": 30,
      "outputs": [
        {
          "output_type": "stream",
          "name": "stdout",
          "text": [
            "Looking in indexes: https://pypi.org/simple, https://us-python.pkg.dev/colab-wheels/public/simple/\n",
            "Requirement already satisfied: pystan in /usr/local/lib/python3.7/dist-packages (2.19.1.1)\n",
            "Requirement already satisfied: numpy>=1.7 in /usr/local/lib/python3.7/dist-packages (from pystan) (1.21.6)\n",
            "Requirement already satisfied: Cython!=0.25.1,>=0.22 in /usr/local/lib/python3.7/dist-packages (from pystan) (0.29.30)\n",
            "Looking in indexes: https://pypi.org/simple, https://us-python.pkg.dev/colab-wheels/public/simple/\n",
            "Requirement already satisfied: fbprophet in /usr/local/lib/python3.7/dist-packages (0.7.1)\n",
            "Requirement already satisfied: Cython>=0.22 in /usr/local/lib/python3.7/dist-packages (from fbprophet) (0.29.30)\n",
            "Requirement already satisfied: cmdstanpy==0.9.5 in /usr/local/lib/python3.7/dist-packages (from fbprophet) (0.9.5)\n",
            "Requirement already satisfied: pystan>=2.14 in /usr/local/lib/python3.7/dist-packages (from fbprophet) (2.19.1.1)\n",
            "Requirement already satisfied: numpy>=1.15.4 in /usr/local/lib/python3.7/dist-packages (from fbprophet) (1.21.6)\n",
            "Requirement already satisfied: pandas>=1.0.4 in /usr/local/lib/python3.7/dist-packages (from fbprophet) (1.3.5)\n",
            "Requirement already satisfied: matplotlib>=2.0.0 in /usr/local/lib/python3.7/dist-packages (from fbprophet) (3.2.2)\n",
            "Requirement already satisfied: LunarCalendar>=0.0.9 in /usr/local/lib/python3.7/dist-packages (from fbprophet) (0.0.9)\n",
            "Requirement already satisfied: convertdate>=2.1.2 in /usr/local/lib/python3.7/dist-packages (from fbprophet) (2.4.0)\n",
            "Requirement already satisfied: holidays>=0.10.2 in /usr/local/lib/python3.7/dist-packages (from fbprophet) (0.10.5.2)\n",
            "Requirement already satisfied: setuptools-git>=1.2 in /usr/local/lib/python3.7/dist-packages (from fbprophet) (1.2)\n",
            "Requirement already satisfied: python-dateutil>=2.8.0 in /usr/local/lib/python3.7/dist-packages (from fbprophet) (2.8.2)\n",
            "Requirement already satisfied: tqdm>=4.36.1 in /usr/local/lib/python3.7/dist-packages (from fbprophet) (4.64.0)\n",
            "Requirement already satisfied: pymeeus<=1,>=0.3.13 in /usr/local/lib/python3.7/dist-packages (from convertdate>=2.1.2->fbprophet) (0.5.11)\n",
            "Requirement already satisfied: six in /usr/local/lib/python3.7/dist-packages (from holidays>=0.10.2->fbprophet) (1.15.0)\n",
            "Requirement already satisfied: korean-lunar-calendar in /usr/local/lib/python3.7/dist-packages (from holidays>=0.10.2->fbprophet) (0.2.1)\n",
            "Requirement already satisfied: hijri-converter in /usr/local/lib/python3.7/dist-packages (from holidays>=0.10.2->fbprophet) (2.2.4)\n",
            "Requirement already satisfied: pytz in /usr/local/lib/python3.7/dist-packages (from LunarCalendar>=0.0.9->fbprophet) (2022.1)\n",
            "Requirement already satisfied: ephem>=3.7.5.3 in /usr/local/lib/python3.7/dist-packages (from LunarCalendar>=0.0.9->fbprophet) (4.1.3)\n",
            "Requirement already satisfied: kiwisolver>=1.0.1 in /usr/local/lib/python3.7/dist-packages (from matplotlib>=2.0.0->fbprophet) (1.4.2)\n",
            "Requirement already satisfied: pyparsing!=2.0.4,!=2.1.2,!=2.1.6,>=2.0.1 in /usr/local/lib/python3.7/dist-packages (from matplotlib>=2.0.0->fbprophet) (3.0.9)\n",
            "Requirement already satisfied: cycler>=0.10 in /usr/local/lib/python3.7/dist-packages (from matplotlib>=2.0.0->fbprophet) (0.11.0)\n",
            "Requirement already satisfied: typing-extensions in /usr/local/lib/python3.7/dist-packages (from kiwisolver>=1.0.1->matplotlib>=2.0.0->fbprophet) (4.2.0)\n"
          ]
        }
      ]
    },
    {
      "cell_type": "code",
      "execution_count": 1,
      "metadata": {
        "colab": {
          "resources": {
            "http://localhost:8080/nbextensions/google.colab/files.js": {
              "data": "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",
              "ok": true,
              "headers": [
                [
                  "content-type",
                  "application/javascript"
                ]
              ],
              "status": 200,
              "status_text": "OK"
            }
          },
          "base_uri": "https://localhost:8080/",
          "height": 73
        },
        "id": "plKc1vCAmbuy",
        "outputId": "53bd5e1a-5fd5-4e7a-967f-13ad8d9f2260"
      },
      "outputs": [
        {
          "output_type": "display_data",
          "data": {
            "text/plain": [
              "<IPython.core.display.HTML object>"
            ],
            "text/html": [
              "\n",
              "     <input type=\"file\" id=\"files-a425665c-f015-478b-a0fd-c492c1712779\" name=\"files[]\" multiple disabled\n",
              "        style=\"border:none\" />\n",
              "     <output id=\"result-a425665c-f015-478b-a0fd-c492c1712779\">\n",
              "      Upload widget is only available when the cell has been executed in the\n",
              "      current browser session. Please rerun this cell to enable.\n",
              "      </output>\n",
              "      <script src=\"/nbextensions/google.colab/files.js\"></script> "
            ]
          },
          "metadata": {}
        },
        {
          "output_type": "stream",
          "name": "stdout",
          "text": [
            "Saving Assignment_Data_vF.csv to Assignment_Data_vF.csv\n"
          ]
        }
      ],
      "source": [
        "from google.colab import files\n",
        "uploaded=files.upload()"
      ]
    },
    {
      "cell_type": "code",
      "source": [
        "import pandas as pd\n",
        "\n",
        "#Importing the data\n",
        "data=pd.read_csv('Assignment_Data_vF.csv')\n",
        "\n",
        "data.head()"
      ],
      "metadata": {
        "colab": {
          "base_uri": "https://localhost:8080/",
          "height": 206
        },
        "id": "7TnEBEO5oze8",
        "outputId": "ad2b9459-1079-4d68-de2f-cfeefdf1d255"
      },
      "execution_count": 2,
      "outputs": [
        {
          "output_type": "execute_result",
          "data": {
            "text/plain": [
              "   DATE         Open         High          Low        Close    Adj Close  \\\n",
              "0     1  9646.700195  9647.049805  9598.500000  9616.400391  9616.400391   \n",
              "1     2  9615.549805  9654.150391  9595.400391  9606.900391  9606.900391   \n",
              "2     3  9621.549805  9627.400391  9580.450195  9618.150391  9618.150391   \n",
              "3     4  9617.900391  9621.400391  9560.799805  9578.049805  9578.049805   \n",
              "4     5  9595.450195  9615.849609  9565.500000  9588.049805  9588.049805   \n",
              "\n",
              "     Volume  \n",
              "0  141400.0  \n",
              "1  129700.0  \n",
              "2  181800.0  \n",
              "3  171100.0  \n",
              "4  213200.0  "
            ],
            "text/html": [
              "\n",
              "  <div id=\"df-53e319e0-7cd4-42d1-8a0d-c403b121f0ff\">\n",
              "    <div class=\"colab-df-container\">\n",
              "      <div>\n",
              "<style scoped>\n",
              "    .dataframe tbody tr th:only-of-type {\n",
              "        vertical-align: middle;\n",
              "    }\n",
              "\n",
              "    .dataframe tbody tr th {\n",
              "        vertical-align: top;\n",
              "    }\n",
              "\n",
              "    .dataframe thead th {\n",
              "        text-align: right;\n",
              "    }\n",
              "</style>\n",
              "<table border=\"1\" class=\"dataframe\">\n",
              "  <thead>\n",
              "    <tr style=\"text-align: right;\">\n",
              "      <th></th>\n",
              "      <th>DATE</th>\n",
              "      <th>Open</th>\n",
              "      <th>High</th>\n",
              "      <th>Low</th>\n",
              "      <th>Close</th>\n",
              "      <th>Adj Close</th>\n",
              "      <th>Volume</th>\n",
              "    </tr>\n",
              "  </thead>\n",
              "  <tbody>\n",
              "    <tr>\n",
              "      <th>0</th>\n",
              "      <td>1</td>\n",
              "      <td>9646.700195</td>\n",
              "      <td>9647.049805</td>\n",
              "      <td>9598.500000</td>\n",
              "      <td>9616.400391</td>\n",
              "      <td>9616.400391</td>\n",
              "      <td>141400.0</td>\n",
              "    </tr>\n",
              "    <tr>\n",
              "      <th>1</th>\n",
              "      <td>2</td>\n",
              "      <td>9615.549805</td>\n",
              "      <td>9654.150391</td>\n",
              "      <td>9595.400391</td>\n",
              "      <td>9606.900391</td>\n",
              "      <td>9606.900391</td>\n",
              "      <td>129700.0</td>\n",
              "    </tr>\n",
              "    <tr>\n",
              "      <th>2</th>\n",
              "      <td>3</td>\n",
              "      <td>9621.549805</td>\n",
              "      <td>9627.400391</td>\n",
              "      <td>9580.450195</td>\n",
              "      <td>9618.150391</td>\n",
              "      <td>9618.150391</td>\n",
              "      <td>181800.0</td>\n",
              "    </tr>\n",
              "    <tr>\n",
              "      <th>3</th>\n",
              "      <td>4</td>\n",
              "      <td>9617.900391</td>\n",
              "      <td>9621.400391</td>\n",
              "      <td>9560.799805</td>\n",
              "      <td>9578.049805</td>\n",
              "      <td>9578.049805</td>\n",
              "      <td>171100.0</td>\n",
              "    </tr>\n",
              "    <tr>\n",
              "      <th>4</th>\n",
              "      <td>5</td>\n",
              "      <td>9595.450195</td>\n",
              "      <td>9615.849609</td>\n",
              "      <td>9565.500000</td>\n",
              "      <td>9588.049805</td>\n",
              "      <td>9588.049805</td>\n",
              "      <td>213200.0</td>\n",
              "    </tr>\n",
              "  </tbody>\n",
              "</table>\n",
              "</div>\n",
              "      <button class=\"colab-df-convert\" onclick=\"convertToInteractive('df-53e319e0-7cd4-42d1-8a0d-c403b121f0ff')\"\n",
              "              title=\"Convert this dataframe to an interactive table.\"\n",
              "              style=\"display:none;\">\n",
              "        \n",
              "  <svg xmlns=\"http://www.w3.org/2000/svg\" height=\"24px\"viewBox=\"0 0 24 24\"\n",
              "       width=\"24px\">\n",
              "    <path d=\"M0 0h24v24H0V0z\" fill=\"none\"/>\n",
              "    <path d=\"M18.56 5.44l.94 2.06.94-2.06 2.06-.94-2.06-.94-.94-2.06-.94 2.06-2.06.94zm-11 1L8.5 8.5l.94-2.06 2.06-.94-2.06-.94L8.5 2.5l-.94 2.06-2.06.94zm10 10l.94 2.06.94-2.06 2.06-.94-2.06-.94-.94-2.06-.94 2.06-2.06.94z\"/><path d=\"M17.41 7.96l-1.37-1.37c-.4-.4-.92-.59-1.43-.59-.52 0-1.04.2-1.43.59L10.3 9.45l-7.72 7.72c-.78.78-.78 2.05 0 2.83L4 21.41c.39.39.9.59 1.41.59.51 0 1.02-.2 1.41-.59l7.78-7.78 2.81-2.81c.8-.78.8-2.07 0-2.86zM5.41 20L4 18.59l7.72-7.72 1.47 1.35L5.41 20z\"/>\n",
              "  </svg>\n",
              "      </button>\n",
              "      \n",
              "  <style>\n",
              "    .colab-df-container {\n",
              "      display:flex;\n",
              "      flex-wrap:wrap;\n",
              "      gap: 12px;\n",
              "    }\n",
              "\n",
              "    .colab-df-convert {\n",
              "      background-color: #E8F0FE;\n",
              "      border: none;\n",
              "      border-radius: 50%;\n",
              "      cursor: pointer;\n",
              "      display: none;\n",
              "      fill: #1967D2;\n",
              "      height: 32px;\n",
              "      padding: 0 0 0 0;\n",
              "      width: 32px;\n",
              "    }\n",
              "\n",
              "    .colab-df-convert:hover {\n",
              "      background-color: #E2EBFA;\n",
              "      box-shadow: 0px 1px 2px rgba(60, 64, 67, 0.3), 0px 1px 3px 1px rgba(60, 64, 67, 0.15);\n",
              "      fill: #174EA6;\n",
              "    }\n",
              "\n",
              "    [theme=dark] .colab-df-convert {\n",
              "      background-color: #3B4455;\n",
              "      fill: #D2E3FC;\n",
              "    }\n",
              "\n",
              "    [theme=dark] .colab-df-convert:hover {\n",
              "      background-color: #434B5C;\n",
              "      box-shadow: 0px 1px 3px 1px rgba(0, 0, 0, 0.15);\n",
              "      filter: drop-shadow(0px 1px 2px rgba(0, 0, 0, 0.3));\n",
              "      fill: #FFFFFF;\n",
              "    }\n",
              "  </style>\n",
              "\n",
              "      <script>\n",
              "        const buttonEl =\n",
              "          document.querySelector('#df-53e319e0-7cd4-42d1-8a0d-c403b121f0ff button.colab-df-convert');\n",
              "        buttonEl.style.display =\n",
              "          google.colab.kernel.accessAllowed ? 'block' : 'none';\n",
              "\n",
              "        async function convertToInteractive(key) {\n",
              "          const element = document.querySelector('#df-53e319e0-7cd4-42d1-8a0d-c403b121f0ff');\n",
              "          const dataTable =\n",
              "            await google.colab.kernel.invokeFunction('convertToInteractive',\n",
              "                                                     [key], {});\n",
              "          if (!dataTable) return;\n",
              "\n",
              "          const docLinkHtml = 'Like what you see? Visit the ' +\n",
              "            '<a target=\"_blank\" href=https://colab.research.google.com/notebooks/data_table.ipynb>data table notebook</a>'\n",
              "            + ' to learn more about interactive tables.';\n",
              "          element.innerHTML = '';\n",
              "          dataTable['output_type'] = 'display_data';\n",
              "          await google.colab.output.renderOutput(dataTable, element);\n",
              "          const docLink = document.createElement('div');\n",
              "          docLink.innerHTML = docLinkHtml;\n",
              "          element.appendChild(docLink);\n",
              "        }\n",
              "      </script>\n",
              "    </div>\n",
              "  </div>\n",
              "  "
            ]
          },
          "metadata": {},
          "execution_count": 2
        }
      ]
    },
    {
      "cell_type": "code",
      "source": [
        "#Adding a date column to the data in order to use the Prophet model\n",
        "data['date'] = pd.date_range(start='1/1/2019', periods=len(data), freq='D')\n",
        "data.head()"
      ],
      "metadata": {
        "colab": {
          "base_uri": "https://localhost:8080/",
          "height": 206
        },
        "id": "ZSKTpWyc1rzH",
        "outputId": "c6f3dd3c-78b7-48a9-8e38-18dce9f9ae08"
      },
      "execution_count": 3,
      "outputs": [
        {
          "output_type": "execute_result",
          "data": {
            "text/plain": [
              "   DATE         Open         High          Low        Close    Adj Close  \\\n",
              "0     1  9646.700195  9647.049805  9598.500000  9616.400391  9616.400391   \n",
              "1     2  9615.549805  9654.150391  9595.400391  9606.900391  9606.900391   \n",
              "2     3  9621.549805  9627.400391  9580.450195  9618.150391  9618.150391   \n",
              "3     4  9617.900391  9621.400391  9560.799805  9578.049805  9578.049805   \n",
              "4     5  9595.450195  9615.849609  9565.500000  9588.049805  9588.049805   \n",
              "\n",
              "     Volume       date  \n",
              "0  141400.0 2019-01-01  \n",
              "1  129700.0 2019-01-02  \n",
              "2  181800.0 2019-01-03  \n",
              "3  171100.0 2019-01-04  \n",
              "4  213200.0 2019-01-05  "
            ],
            "text/html": [
              "\n",
              "  <div id=\"df-2f271641-5a72-4ef8-a817-915f4254e3a8\">\n",
              "    <div class=\"colab-df-container\">\n",
              "      <div>\n",
              "<style scoped>\n",
              "    .dataframe tbody tr th:only-of-type {\n",
              "        vertical-align: middle;\n",
              "    }\n",
              "\n",
              "    .dataframe tbody tr th {\n",
              "        vertical-align: top;\n",
              "    }\n",
              "\n",
              "    .dataframe thead th {\n",
              "        text-align: right;\n",
              "    }\n",
              "</style>\n",
              "<table border=\"1\" class=\"dataframe\">\n",
              "  <thead>\n",
              "    <tr style=\"text-align: right;\">\n",
              "      <th></th>\n",
              "      <th>DATE</th>\n",
              "      <th>Open</th>\n",
              "      <th>High</th>\n",
              "      <th>Low</th>\n",
              "      <th>Close</th>\n",
              "      <th>Adj Close</th>\n",
              "      <th>Volume</th>\n",
              "      <th>date</th>\n",
              "    </tr>\n",
              "  </thead>\n",
              "  <tbody>\n",
              "    <tr>\n",
              "      <th>0</th>\n",
              "      <td>1</td>\n",
              "      <td>9646.700195</td>\n",
              "      <td>9647.049805</td>\n",
              "      <td>9598.500000</td>\n",
              "      <td>9616.400391</td>\n",
              "      <td>9616.400391</td>\n",
              "      <td>141400.0</td>\n",
              "      <td>2019-01-01</td>\n",
              "    </tr>\n",
              "    <tr>\n",
              "      <th>1</th>\n",
              "      <td>2</td>\n",
              "      <td>9615.549805</td>\n",
              "      <td>9654.150391</td>\n",
              "      <td>9595.400391</td>\n",
              "      <td>9606.900391</td>\n",
              "      <td>9606.900391</td>\n",
              "      <td>129700.0</td>\n",
              "      <td>2019-01-02</td>\n",
              "    </tr>\n",
              "    <tr>\n",
              "      <th>2</th>\n",
              "      <td>3</td>\n",
              "      <td>9621.549805</td>\n",
              "      <td>9627.400391</td>\n",
              "      <td>9580.450195</td>\n",
              "      <td>9618.150391</td>\n",
              "      <td>9618.150391</td>\n",
              "      <td>181800.0</td>\n",
              "      <td>2019-01-03</td>\n",
              "    </tr>\n",
              "    <tr>\n",
              "      <th>3</th>\n",
              "      <td>4</td>\n",
              "      <td>9617.900391</td>\n",
              "      <td>9621.400391</td>\n",
              "      <td>9560.799805</td>\n",
              "      <td>9578.049805</td>\n",
              "      <td>9578.049805</td>\n",
              "      <td>171100.0</td>\n",
              "      <td>2019-01-04</td>\n",
              "    </tr>\n",
              "    <tr>\n",
              "      <th>4</th>\n",
              "      <td>5</td>\n",
              "      <td>9595.450195</td>\n",
              "      <td>9615.849609</td>\n",
              "      <td>9565.500000</td>\n",
              "      <td>9588.049805</td>\n",
              "      <td>9588.049805</td>\n",
              "      <td>213200.0</td>\n",
              "      <td>2019-01-05</td>\n",
              "    </tr>\n",
              "  </tbody>\n",
              "</table>\n",
              "</div>\n",
              "      <button class=\"colab-df-convert\" onclick=\"convertToInteractive('df-2f271641-5a72-4ef8-a817-915f4254e3a8')\"\n",
              "              title=\"Convert this dataframe to an interactive table.\"\n",
              "              style=\"display:none;\">\n",
              "        \n",
              "  <svg xmlns=\"http://www.w3.org/2000/svg\" height=\"24px\"viewBox=\"0 0 24 24\"\n",
              "       width=\"24px\">\n",
              "    <path d=\"M0 0h24v24H0V0z\" fill=\"none\"/>\n",
              "    <path d=\"M18.56 5.44l.94 2.06.94-2.06 2.06-.94-2.06-.94-.94-2.06-.94 2.06-2.06.94zm-11 1L8.5 8.5l.94-2.06 2.06-.94-2.06-.94L8.5 2.5l-.94 2.06-2.06.94zm10 10l.94 2.06.94-2.06 2.06-.94-2.06-.94-.94-2.06-.94 2.06-2.06.94z\"/><path d=\"M17.41 7.96l-1.37-1.37c-.4-.4-.92-.59-1.43-.59-.52 0-1.04.2-1.43.59L10.3 9.45l-7.72 7.72c-.78.78-.78 2.05 0 2.83L4 21.41c.39.39.9.59 1.41.59.51 0 1.02-.2 1.41-.59l7.78-7.78 2.81-2.81c.8-.78.8-2.07 0-2.86zM5.41 20L4 18.59l7.72-7.72 1.47 1.35L5.41 20z\"/>\n",
              "  </svg>\n",
              "      </button>\n",
              "      \n",
              "  <style>\n",
              "    .colab-df-container {\n",
              "      display:flex;\n",
              "      flex-wrap:wrap;\n",
              "      gap: 12px;\n",
              "    }\n",
              "\n",
              "    .colab-df-convert {\n",
              "      background-color: #E8F0FE;\n",
              "      border: none;\n",
              "      border-radius: 50%;\n",
              "      cursor: pointer;\n",
              "      display: none;\n",
              "      fill: #1967D2;\n",
              "      height: 32px;\n",
              "      padding: 0 0 0 0;\n",
              "      width: 32px;\n",
              "    }\n",
              "\n",
              "    .colab-df-convert:hover {\n",
              "      background-color: #E2EBFA;\n",
              "      box-shadow: 0px 1px 2px rgba(60, 64, 67, 0.3), 0px 1px 3px 1px rgba(60, 64, 67, 0.15);\n",
              "      fill: #174EA6;\n",
              "    }\n",
              "\n",
              "    [theme=dark] .colab-df-convert {\n",
              "      background-color: #3B4455;\n",
              "      fill: #D2E3FC;\n",
              "    }\n",
              "\n",
              "    [theme=dark] .colab-df-convert:hover {\n",
              "      background-color: #434B5C;\n",
              "      box-shadow: 0px 1px 3px 1px rgba(0, 0, 0, 0.15);\n",
              "      filter: drop-shadow(0px 1px 2px rgba(0, 0, 0, 0.3));\n",
              "      fill: #FFFFFF;\n",
              "    }\n",
              "  </style>\n",
              "\n",
              "      <script>\n",
              "        const buttonEl =\n",
              "          document.querySelector('#df-2f271641-5a72-4ef8-a817-915f4254e3a8 button.colab-df-convert');\n",
              "        buttonEl.style.display =\n",
              "          google.colab.kernel.accessAllowed ? 'block' : 'none';\n",
              "\n",
              "        async function convertToInteractive(key) {\n",
              "          const element = document.querySelector('#df-2f271641-5a72-4ef8-a817-915f4254e3a8');\n",
              "          const dataTable =\n",
              "            await google.colab.kernel.invokeFunction('convertToInteractive',\n",
              "                                                     [key], {});\n",
              "          if (!dataTable) return;\n",
              "\n",
              "          const docLinkHtml = 'Like what you see? Visit the ' +\n",
              "            '<a target=\"_blank\" href=https://colab.research.google.com/notebooks/data_table.ipynb>data table notebook</a>'\n",
              "            + ' to learn more about interactive tables.';\n",
              "          element.innerHTML = '';\n",
              "          dataTable['output_type'] = 'display_data';\n",
              "          await google.colab.output.renderOutput(dataTable, element);\n",
              "          const docLink = document.createElement('div');\n",
              "          docLink.innerHTML = docLinkHtml;\n",
              "          element.appendChild(docLink);\n",
              "        }\n",
              "      </script>\n",
              "    </div>\n",
              "  </div>\n",
              "  "
            ]
          },
          "metadata": {},
          "execution_count": 3
        }
      ]
    },
    {
      "cell_type": "markdown",
      "source": [
        "<b>Data Cleaning and Preprocessing</b>"
      ],
      "metadata": {
        "id": "KGZnm8Vq9PIh"
      }
    },
    {
      "cell_type": "code",
      "source": [
        "data.isnull().sum()"
      ],
      "metadata": {
        "colab": {
          "base_uri": "https://localhost:8080/"
        },
        "id": "kWINRd60rqiq",
        "outputId": "b3172f9b-0b45-42bf-d8fd-6d50b8775c78"
      },
      "execution_count": 4,
      "outputs": [
        {
          "output_type": "execute_result",
          "data": {
            "text/plain": [
              "DATE         0\n",
              "Open         4\n",
              "High         4\n",
              "Low          4\n",
              "Close        4\n",
              "Adj Close    4\n",
              "Volume       4\n",
              "date         0\n",
              "dtype: int64"
            ]
          },
          "metadata": {},
          "execution_count": 4
        }
      ]
    },
    {
      "cell_type": "code",
      "source": [
        "#Removing null values\n",
        "data=data.dropna()"
      ],
      "metadata": {
        "id": "OB27AXSus0Rd"
      },
      "execution_count": 5,
      "outputs": []
    },
    {
      "cell_type": "code",
      "source": [
        "data.shape"
      ],
      "metadata": {
        "colab": {
          "base_uri": "https://localhost:8080/"
        },
        "id": "TwvyfXRtsqxU",
        "outputId": "c1503891-d948-4f45-be2d-27002e5cc1ce"
      },
      "execution_count": 6,
      "outputs": [
        {
          "output_type": "execute_result",
          "data": {
            "text/plain": [
              "(1163, 8)"
            ]
          },
          "metadata": {},
          "execution_count": 6
        }
      ]
    },
    {
      "cell_type": "code",
      "source": [
        "data.describe()"
      ],
      "metadata": {
        "colab": {
          "base_uri": "https://localhost:8080/",
          "height": 300
        },
        "id": "7OSnqcn_sfr-",
        "outputId": "6954e5f7-7990-4fdd-892a-55148f640a83"
      },
      "execution_count": 7,
      "outputs": [
        {
          "output_type": "execute_result",
          "data": {
            "text/plain": [
              "              DATE          Open          High           Low         Close  \\\n",
              "count  1163.000000   1163.000000   1163.000000   1163.000000   1163.000000   \n",
              "mean    584.325021  12262.283757  12322.435465  12175.467229  12250.760362   \n",
              "std     337.217338   2514.980126   2521.722058   2500.592862   2513.511192   \n",
              "min       1.000000   7735.149902   8036.950195   7511.100098   7610.250000   \n",
              "25%     292.500000  10562.000000  10609.774905  10493.550295  10550.425295   \n",
              "50%     585.000000  11359.799810  11398.150390  11274.000000  11341.150390   \n",
              "75%     876.500000  13787.400390  13891.774905  13667.649905  13789.049810   \n",
              "max    1167.000000  18602.349610  18604.449220  18445.300780  18477.050780   \n",
              "\n",
              "          Adj Close        Volume  \n",
              "count   1163.000000  1.163000e+03  \n",
              "mean   12250.760362  4.157183e+05  \n",
              "std     2513.511192  2.322899e+05  \n",
              "min     7610.250000  0.000000e+00  \n",
              "25%    10550.425295  2.401500e+05  \n",
              "50%    11341.150390  3.575000e+05  \n",
              "75%    13789.049810  5.640500e+05  \n",
              "max    18477.050780  1.811000e+06  "
            ],
            "text/html": [
              "\n",
              "  <div id=\"df-50ac329f-bf56-48c3-9958-9eb75681a703\">\n",
              "    <div class=\"colab-df-container\">\n",
              "      <div>\n",
              "<style scoped>\n",
              "    .dataframe tbody tr th:only-of-type {\n",
              "        vertical-align: middle;\n",
              "    }\n",
              "\n",
              "    .dataframe tbody tr th {\n",
              "        vertical-align: top;\n",
              "    }\n",
              "\n",
              "    .dataframe thead th {\n",
              "        text-align: right;\n",
              "    }\n",
              "</style>\n",
              "<table border=\"1\" class=\"dataframe\">\n",
              "  <thead>\n",
              "    <tr style=\"text-align: right;\">\n",
              "      <th></th>\n",
              "      <th>DATE</th>\n",
              "      <th>Open</th>\n",
              "      <th>High</th>\n",
              "      <th>Low</th>\n",
              "      <th>Close</th>\n",
              "      <th>Adj Close</th>\n",
              "      <th>Volume</th>\n",
              "    </tr>\n",
              "  </thead>\n",
              "  <tbody>\n",
              "    <tr>\n",
              "      <th>count</th>\n",
              "      <td>1163.000000</td>\n",
              "      <td>1163.000000</td>\n",
              "      <td>1163.000000</td>\n",
              "      <td>1163.000000</td>\n",
              "      <td>1163.000000</td>\n",
              "      <td>1163.000000</td>\n",
              "      <td>1.163000e+03</td>\n",
              "    </tr>\n",
              "    <tr>\n",
              "      <th>mean</th>\n",
              "      <td>584.325021</td>\n",
              "      <td>12262.283757</td>\n",
              "      <td>12322.435465</td>\n",
              "      <td>12175.467229</td>\n",
              "      <td>12250.760362</td>\n",
              "      <td>12250.760362</td>\n",
              "      <td>4.157183e+05</td>\n",
              "    </tr>\n",
              "    <tr>\n",
              "      <th>std</th>\n",
              "      <td>337.217338</td>\n",
              "      <td>2514.980126</td>\n",
              "      <td>2521.722058</td>\n",
              "      <td>2500.592862</td>\n",
              "      <td>2513.511192</td>\n",
              "      <td>2513.511192</td>\n",
              "      <td>2.322899e+05</td>\n",
              "    </tr>\n",
              "    <tr>\n",
              "      <th>min</th>\n",
              "      <td>1.000000</td>\n",
              "      <td>7735.149902</td>\n",
              "      <td>8036.950195</td>\n",
              "      <td>7511.100098</td>\n",
              "      <td>7610.250000</td>\n",
              "      <td>7610.250000</td>\n",
              "      <td>0.000000e+00</td>\n",
              "    </tr>\n",
              "    <tr>\n",
              "      <th>25%</th>\n",
              "      <td>292.500000</td>\n",
              "      <td>10562.000000</td>\n",
              "      <td>10609.774905</td>\n",
              "      <td>10493.550295</td>\n",
              "      <td>10550.425295</td>\n",
              "      <td>10550.425295</td>\n",
              "      <td>2.401500e+05</td>\n",
              "    </tr>\n",
              "    <tr>\n",
              "      <th>50%</th>\n",
              "      <td>585.000000</td>\n",
              "      <td>11359.799810</td>\n",
              "      <td>11398.150390</td>\n",
              "      <td>11274.000000</td>\n",
              "      <td>11341.150390</td>\n",
              "      <td>11341.150390</td>\n",
              "      <td>3.575000e+05</td>\n",
              "    </tr>\n",
              "    <tr>\n",
              "      <th>75%</th>\n",
              "      <td>876.500000</td>\n",
              "      <td>13787.400390</td>\n",
              "      <td>13891.774905</td>\n",
              "      <td>13667.649905</td>\n",
              "      <td>13789.049810</td>\n",
              "      <td>13789.049810</td>\n",
              "      <td>5.640500e+05</td>\n",
              "    </tr>\n",
              "    <tr>\n",
              "      <th>max</th>\n",
              "      <td>1167.000000</td>\n",
              "      <td>18602.349610</td>\n",
              "      <td>18604.449220</td>\n",
              "      <td>18445.300780</td>\n",
              "      <td>18477.050780</td>\n",
              "      <td>18477.050780</td>\n",
              "      <td>1.811000e+06</td>\n",
              "    </tr>\n",
              "  </tbody>\n",
              "</table>\n",
              "</div>\n",
              "      <button class=\"colab-df-convert\" onclick=\"convertToInteractive('df-50ac329f-bf56-48c3-9958-9eb75681a703')\"\n",
              "              title=\"Convert this dataframe to an interactive table.\"\n",
              "              style=\"display:none;\">\n",
              "        \n",
              "  <svg xmlns=\"http://www.w3.org/2000/svg\" height=\"24px\"viewBox=\"0 0 24 24\"\n",
              "       width=\"24px\">\n",
              "    <path d=\"M0 0h24v24H0V0z\" fill=\"none\"/>\n",
              "    <path d=\"M18.56 5.44l.94 2.06.94-2.06 2.06-.94-2.06-.94-.94-2.06-.94 2.06-2.06.94zm-11 1L8.5 8.5l.94-2.06 2.06-.94-2.06-.94L8.5 2.5l-.94 2.06-2.06.94zm10 10l.94 2.06.94-2.06 2.06-.94-2.06-.94-.94-2.06-.94 2.06-2.06.94z\"/><path d=\"M17.41 7.96l-1.37-1.37c-.4-.4-.92-.59-1.43-.59-.52 0-1.04.2-1.43.59L10.3 9.45l-7.72 7.72c-.78.78-.78 2.05 0 2.83L4 21.41c.39.39.9.59 1.41.59.51 0 1.02-.2 1.41-.59l7.78-7.78 2.81-2.81c.8-.78.8-2.07 0-2.86zM5.41 20L4 18.59l7.72-7.72 1.47 1.35L5.41 20z\"/>\n",
              "  </svg>\n",
              "      </button>\n",
              "      \n",
              "  <style>\n",
              "    .colab-df-container {\n",
              "      display:flex;\n",
              "      flex-wrap:wrap;\n",
              "      gap: 12px;\n",
              "    }\n",
              "\n",
              "    .colab-df-convert {\n",
              "      background-color: #E8F0FE;\n",
              "      border: none;\n",
              "      border-radius: 50%;\n",
              "      cursor: pointer;\n",
              "      display: none;\n",
              "      fill: #1967D2;\n",
              "      height: 32px;\n",
              "      padding: 0 0 0 0;\n",
              "      width: 32px;\n",
              "    }\n",
              "\n",
              "    .colab-df-convert:hover {\n",
              "      background-color: #E2EBFA;\n",
              "      box-shadow: 0px 1px 2px rgba(60, 64, 67, 0.3), 0px 1px 3px 1px rgba(60, 64, 67, 0.15);\n",
              "      fill: #174EA6;\n",
              "    }\n",
              "\n",
              "    [theme=dark] .colab-df-convert {\n",
              "      background-color: #3B4455;\n",
              "      fill: #D2E3FC;\n",
              "    }\n",
              "\n",
              "    [theme=dark] .colab-df-convert:hover {\n",
              "      background-color: #434B5C;\n",
              "      box-shadow: 0px 1px 3px 1px rgba(0, 0, 0, 0.15);\n",
              "      filter: drop-shadow(0px 1px 2px rgba(0, 0, 0, 0.3));\n",
              "      fill: #FFFFFF;\n",
              "    }\n",
              "  </style>\n",
              "\n",
              "      <script>\n",
              "        const buttonEl =\n",
              "          document.querySelector('#df-50ac329f-bf56-48c3-9958-9eb75681a703 button.colab-df-convert');\n",
              "        buttonEl.style.display =\n",
              "          google.colab.kernel.accessAllowed ? 'block' : 'none';\n",
              "\n",
              "        async function convertToInteractive(key) {\n",
              "          const element = document.querySelector('#df-50ac329f-bf56-48c3-9958-9eb75681a703');\n",
              "          const dataTable =\n",
              "            await google.colab.kernel.invokeFunction('convertToInteractive',\n",
              "                                                     [key], {});\n",
              "          if (!dataTable) return;\n",
              "\n",
              "          const docLinkHtml = 'Like what you see? Visit the ' +\n",
              "            '<a target=\"_blank\" href=https://colab.research.google.com/notebooks/data_table.ipynb>data table notebook</a>'\n",
              "            + ' to learn more about interactive tables.';\n",
              "          element.innerHTML = '';\n",
              "          dataTable['output_type'] = 'display_data';\n",
              "          await google.colab.output.renderOutput(dataTable, element);\n",
              "          const docLink = document.createElement('div');\n",
              "          docLink.innerHTML = docLinkHtml;\n",
              "          element.appendChild(docLink);\n",
              "        }\n",
              "      </script>\n",
              "    </div>\n",
              "  </div>\n",
              "  "
            ]
          },
          "metadata": {},
          "execution_count": 7
        }
      ]
    },
    {
      "cell_type": "markdown",
      "source": [
        "<b>Visualising the data</b>"
      ],
      "metadata": {
        "id": "PeZ8voKv9Xwo"
      }
    },
    {
      "cell_type": "code",
      "source": [
        "import matplotlib.pyplot as plt\n",
        "plt.figure(figsize=(10,10))\n",
        "plt.plot(data['Open'],label=\"Open\")\n",
        "plt.plot(data['Close'],label=\"Close\")\n",
        "plt.legend()\n",
        "plt.show()"
      ],
      "metadata": {
        "colab": {
          "base_uri": "https://localhost:8080/",
          "height": 592
        },
        "id": "2orBRmTMpqJ3",
        "outputId": "548035fe-0df4-44a7-d133-51693a2227e2"
      },
      "execution_count": 8,
      "outputs": [
        {
          "output_type": "display_data",
          "data": {
            "text/plain": [
              "<Figure size 720x720 with 1 Axes>"
            ],
            "image/png": "[encoded data removed]"
          },
          "metadata": {
            "needs_background": "light"
          }
        }
      ]
    },
    {
      "cell_type": "code",
      "source": [
        "import matplotlib.pyplot as plt\n",
        "plt.figure(figsize=(10,10))\n",
        "plt.plot(data['Low'],label=\"Low\")\n",
        "plt.plot(data['High'],label=\"High\")\n",
        "plt.legend()\n",
        "plt.show()"
      ],
      "metadata": {
        "colab": {
          "base_uri": "https://localhost:8080/",
          "height": 592
        },
        "id": "dkLVY1CEps1J",
        "outputId": "f55c87a1-dc5b-425b-aa43-68987031c764"
      },
      "execution_count": 9,
      "outputs": [
        {
          "output_type": "display_data",
          "data": {
            "text/plain": [
              "<Figure size 720x720 with 1 Axes>"
            ],
            "image/png": "[encoded data removed]"
          },
          "metadata": {
            "needs_background": "light"
          }
        }
      ]
    },
    {
      "cell_type": "code",
      "source": [
        "data['Adj Close'].plot()"
      ],
      "metadata": {
        "colab": {
          "base_uri": "https://localhost:8080/",
          "height": 282
        },
        "id": "rgut7p86s2UU",
        "outputId": "d1113ddd-6169-418f-dd92-39b411cae06a"
      },
      "execution_count": 10,
      "outputs": [
        {
          "output_type": "execute_result",
          "data": {
            "text/plain": [
              "<matplotlib.axes._subplots.AxesSubplot at 0x7ff8fd585810>"
            ]
          },
          "metadata": {},
          "execution_count": 10
        },
        {
          "output_type": "display_data",
          "data": {
            "text/plain": [
              "<Figure size 432x288 with 1 Axes>"
            ],
            "image/png": "[encoded data removed]"
          },
          "metadata": {
            "needs_background": "light"
          }
        }
      ]
    },
    {
      "cell_type": "markdown",
      "source": [
        "To use the prophet model, we only need the date and the output column.\n",
        "So we will drop everything else."
      ],
      "metadata": {
        "id": "lgh4LvNJ9erf"
      }
    },
    {
      "cell_type": "code",
      "source": [
        "data=data[['date','Adj Close']]\n",
        "data1=data"
      ],
      "metadata": {
        "id": "U-_ly2PatMPd"
      },
      "execution_count": 11,
      "outputs": []
    },
    {
      "cell_type": "code",
      "source": [
        "data=data.rename(columns={'date':'ds','Adj Close':'y'})"
      ],
      "metadata": {
        "id": "TuQznNE22Q-M"
      },
      "execution_count": 42,
      "outputs": []
    },
    {
      "cell_type": "code",
      "source": [
        "#Importing the pre trained model\n",
        "from fbprophet import Prophet"
      ],
      "metadata": {
        "id": "exgeQWSLw7Wg"
      },
      "execution_count": 43,
      "outputs": []
    },
    {
      "cell_type": "code",
      "source": [
        "#Defining the confidence interval of the model and fitting it to the data\n",
        "m = Prophet(interval_width=0.95)\n",
        "model = m.fit(data)"
      ],
      "metadata": {
        "colab": {
          "base_uri": "https://localhost:8080/"
        },
        "id": "p_0AFKoExAKt",
        "outputId": "a1b8a550-6770-4152-e3f6-411e6379d710"
      },
      "execution_count": 44,
      "outputs": [
        {
          "output_type": "stream",
          "name": "stderr",
          "text": [
            "INFO:fbprophet:Disabling daily seasonality. Run prophet with daily_seasonality=True to override this.\n"
          ]
        }
      ]
    },
    {
      "cell_type": "code",
      "source": [
        "#Defining the future data\n",
        "future=m.make_future_dataframe(periods=30,freq='D')"
      ],
      "metadata": {
        "id": "qIXjwNa6xGSH"
      },
      "execution_count": 45,
      "outputs": []
    },
    {
      "cell_type": "code",
      "source": [
        "#Predicting future stock prices\n",
        "forecast=m.predict(future)"
      ],
      "metadata": {
        "id": "L4QP2QKe3F_K"
      },
      "execution_count": 46,
      "outputs": []
    },
    {
      "cell_type": "code",
      "source": [
        "forecast.head()"
      ],
      "metadata": {
        "colab": {
          "base_uri": "https://localhost:8080/",
          "height": 270
        },
        "id": "ZDy6gb0D3Ks7",
        "outputId": "be17483a-4004-46ea-b763-c6afb17725f3"
      },
      "execution_count": 47,
      "outputs": [
        {
          "output_type": "execute_result",
          "data": {
            "text/plain": [
              "          ds        trend   yhat_lower    yhat_upper  trend_lower  \\\n",
              "0 2019-01-01  9224.811857  9013.765288  10441.934987  9224.811857   \n",
              "1 2019-01-02  9236.386030  9007.019252  10439.783109  9236.386030   \n",
              "2 2019-01-03  9247.960203  8977.063925  10417.782045  9247.960203   \n",
              "3 2019-01-04  9259.534376  8962.330356  10452.760752  9259.534376   \n",
              "4 2019-01-05  9271.108549  8989.936023  10491.208904  9271.108549   \n",
              "\n",
              "   trend_upper  additive_terms  additive_terms_lower  additive_terms_upper  \\\n",
              "0  9224.811857      512.860955            512.860955            512.860955   \n",
              "1  9236.386030      492.011366            492.011366            492.011366   \n",
              "2  9247.960203      479.409960            479.409960            479.409960   \n",
              "3  9259.534376      459.781350            459.781350            459.781350   \n",
              "4  9271.108549      445.114004            445.114004            445.114004   \n",
              "\n",
              "     weekly  weekly_lower  weekly_upper      yearly  yearly_lower  \\\n",
              "0  7.436168      7.436168      7.436168  505.424787    505.424787   \n",
              "1  2.845542      2.845542      2.845542  489.165823    489.165823   \n",
              "2  5.877053      5.877053      5.877053  473.532907    473.532907   \n",
              "3  1.205765      1.205765      1.205765  458.575584    458.575584   \n",
              "4  0.783369      0.783369      0.783369  444.330635    444.330635   \n",
              "\n",
              "   yearly_upper  multiplicative_terms  multiplicative_terms_lower  \\\n",
              "0    505.424787                   0.0                         0.0   \n",
              "1    489.165823                   0.0                         0.0   \n",
              "2    473.532907                   0.0                         0.0   \n",
              "3    458.575584                   0.0                         0.0   \n",
              "4    444.330635                   0.0                         0.0   \n",
              "\n",
              "   multiplicative_terms_upper         yhat  \n",
              "0                         0.0  9737.672812  \n",
              "1                         0.0  9728.397396  \n",
              "2                         0.0  9727.370163  \n",
              "3                         0.0  9719.315726  \n",
              "4                         0.0  9716.222553  "
            ],
            "text/html": [
              "\n",
              "  <div id=\"df-dd128014-9e35-4e2d-9d85-262bf624cdb0\">\n",
              "    <div class=\"colab-df-container\">\n",
              "      <div>\n",
              "<style scoped>\n",
              "    .dataframe tbody tr th:only-of-type {\n",
              "        vertical-align: middle;\n",
              "    }\n",
              "\n",
              "    .dataframe tbody tr th {\n",
              "        vertical-align: top;\n",
              "    }\n",
              "\n",
              "    .dataframe thead th {\n",
              "        text-align: right;\n",
              "    }\n",
              "</style>\n",
              "<table border=\"1\" class=\"dataframe\">\n",
              "  <thead>\n",
              "    <tr style=\"text-align: right;\">\n",
              "      <th></th>\n",
              "      <th>ds</th>\n",
              "      <th>trend</th>\n",
              "      <th>yhat_lower</th>\n",
              "      <th>yhat_upper</th>\n",
              "      <th>trend_lower</th>\n",
              "      <th>trend_upper</th>\n",
              "      <th>additive_terms</th>\n",
              "      <th>additive_terms_lower</th>\n",
              "      <th>additive_terms_upper</th>\n",
              "      <th>weekly</th>\n",
              "      <th>weekly_lower</th>\n",
              "      <th>weekly_upper</th>\n",
              "      <th>yearly</th>\n",
              "      <th>yearly_lower</th>\n",
              "      <th>yearly_upper</th>\n",
              "      <th>multiplicative_terms</th>\n",
              "      <th>multiplicative_terms_lower</th>\n",
              "      <th>multiplicative_terms_upper</th>\n",
              "      <th>yhat</th>\n",
              "    </tr>\n",
              "  </thead>\n",
              "  <tbody>\n",
              "    <tr>\n",
              "      <th>0</th>\n",
              "      <td>2019-01-01</td>\n",
              "      <td>9224.811857</td>\n",
              "      <td>9013.765288</td>\n",
              "      <td>10441.934987</td>\n",
              "      <td>9224.811857</td>\n",
              "      <td>9224.811857</td>\n",
              "      <td>512.860955</td>\n",
              "      <td>512.860955</td>\n",
              "      <td>512.860955</td>\n",
              "      <td>7.436168</td>\n",
              "      <td>7.436168</td>\n",
              "      <td>7.436168</td>\n",
              "      <td>505.424787</td>\n",
              "      <td>505.424787</td>\n",
              "      <td>505.424787</td>\n",
              "      <td>0.0</td>\n",
              "      <td>0.0</td>\n",
              "      <td>0.0</td>\n",
              "      <td>9737.672812</td>\n",
              "    </tr>\n",
              "    <tr>\n",
              "      <th>1</th>\n",
              "      <td>2019-01-02</td>\n",
              "      <td>9236.386030</td>\n",
              "      <td>9007.019252</td>\n",
              "      <td>10439.783109</td>\n",
              "      <td>9236.386030</td>\n",
              "      <td>9236.386030</td>\n",
              "      <td>492.011366</td>\n",
              "      <td>492.011366</td>\n",
              "      <td>492.011366</td>\n",
              "      <td>2.845542</td>\n",
              "      <td>2.845542</td>\n",
              "      <td>2.845542</td>\n",
              "      <td>489.165823</td>\n",
              "      <td>489.165823</td>\n",
              "      <td>489.165823</td>\n",
              "      <td>0.0</td>\n",
              "      <td>0.0</td>\n",
              "      <td>0.0</td>\n",
              "      <td>9728.397396</td>\n",
              "    </tr>\n",
              "    <tr>\n",
              "      <th>2</th>\n",
              "      <td>2019-01-03</td>\n",
              "      <td>9247.960203</td>\n",
              "      <td>8977.063925</td>\n",
              "      <td>10417.782045</td>\n",
              "      <td>9247.960203</td>\n",
              "      <td>9247.960203</td>\n",
              "      <td>479.409960</td>\n",
              "      <td>479.409960</td>\n",
              "      <td>479.409960</td>\n",
              "      <td>5.877053</td>\n",
              "      <td>5.877053</td>\n",
              "      <td>5.877053</td>\n",
              "      <td>473.532907</td>\n",
              "      <td>473.532907</td>\n",
              "      <td>473.532907</td>\n",
              "      <td>0.0</td>\n",
              "      <td>0.0</td>\n",
              "      <td>0.0</td>\n",
              "      <td>9727.370163</td>\n",
              "    </tr>\n",
              "    <tr>\n",
              "      <th>3</th>\n",
              "      <td>2019-01-04</td>\n",
              "      <td>9259.534376</td>\n",
              "      <td>8962.330356</td>\n",
              "      <td>10452.760752</td>\n",
              "      <td>9259.534376</td>\n",
              "      <td>9259.534376</td>\n",
              "      <td>459.781350</td>\n",
              "      <td>459.781350</td>\n",
              "      <td>459.781350</td>\n",
              "      <td>1.205765</td>\n",
              "      <td>1.205765</td>\n",
              "      <td>1.205765</td>\n",
              "      <td>458.575584</td>\n",
              "      <td>458.575584</td>\n",
              "      <td>458.575584</td>\n",
              "      <td>0.0</td>\n",
              "      <td>0.0</td>\n",
              "      <td>0.0</td>\n",
              "      <td>9719.315726</td>\n",
              "    </tr>\n",
              "    <tr>\n",
              "      <th>4</th>\n",
              "      <td>2019-01-05</td>\n",
              "      <td>9271.108549</td>\n",
              "      <td>8989.936023</td>\n",
              "      <td>10491.208904</td>\n",
              "      <td>9271.108549</td>\n",
              "      <td>9271.108549</td>\n",
              "      <td>445.114004</td>\n",
              "      <td>445.114004</td>\n",
              "      <td>445.114004</td>\n",
              "      <td>0.783369</td>\n",
              "      <td>0.783369</td>\n",
              "      <td>0.783369</td>\n",
              "      <td>444.330635</td>\n",
              "      <td>444.330635</td>\n",
              "      <td>444.330635</td>\n",
              "      <td>0.0</td>\n",
              "      <td>0.0</td>\n",
              "      <td>0.0</td>\n",
              "      <td>9716.222553</td>\n",
              "    </tr>\n",
              "  </tbody>\n",
              "</table>\n",
              "</div>\n",
              "      <button class=\"colab-df-convert\" onclick=\"convertToInteractive('df-dd128014-9e35-4e2d-9d85-262bf624cdb0')\"\n",
              "              title=\"Convert this dataframe to an interactive table.\"\n",
              "              style=\"display:none;\">\n",
              "        \n",
              "  <svg xmlns=\"http://www.w3.org/2000/svg\" height=\"24px\"viewBox=\"0 0 24 24\"\n",
              "       width=\"24px\">\n",
              "    <path d=\"M0 0h24v24H0V0z\" fill=\"none\"/>\n",
              "    <path d=\"M18.56 5.44l.94 2.06.94-2.06 2.06-.94-2.06-.94-.94-2.06-.94 2.06-2.06.94zm-11 1L8.5 8.5l.94-2.06 2.06-.94-2.06-.94L8.5 2.5l-.94 2.06-2.06.94zm10 10l.94 2.06.94-2.06 2.06-.94-2.06-.94-.94-2.06-.94 2.06-2.06.94z\"/><path d=\"M17.41 7.96l-1.37-1.37c-.4-.4-.92-.59-1.43-.59-.52 0-1.04.2-1.43.59L10.3 9.45l-7.72 7.72c-.78.78-.78 2.05 0 2.83L4 21.41c.39.39.9.59 1.41.59.51 0 1.02-.2 1.41-.59l7.78-7.78 2.81-2.81c.8-.78.8-2.07 0-2.86zM5.41 20L4 18.59l7.72-7.72 1.47 1.35L5.41 20z\"/>\n",
              "  </svg>\n",
              "      </button>\n",
              "      \n",
              "  <style>\n",
              "    .colab-df-container {\n",
              "      display:flex;\n",
              "      flex-wrap:wrap;\n",
              "      gap: 12px;\n",
              "    }\n",
              "\n",
              "    .colab-df-convert {\n",
              "      background-color: #E8F0FE;\n",
              "      border: none;\n",
              "      border-radius: 50%;\n",
              "      cursor: pointer;\n",
              "      display: none;\n",
              "      fill: #1967D2;\n",
              "      height: 32px;\n",
              "      padding: 0 0 0 0;\n",
              "      width: 32px;\n",
              "    }\n",
              "\n",
              "    .colab-df-convert:hover {\n",
              "      background-color: #E2EBFA;\n",
              "      box-shadow: 0px 1px 2px rgba(60, 64, 67, 0.3), 0px 1px 3px 1px rgba(60, 64, 67, 0.15);\n",
              "      fill: #174EA6;\n",
              "    }\n",
              "\n",
              "    [theme=dark] .colab-df-convert {\n",
              "      background-color: #3B4455;\n",
              "      fill: #D2E3FC;\n",
              "    }\n",
              "\n",
              "    [theme=dark] .colab-df-convert:hover {\n",
              "      background-color: #434B5C;\n",
              "      box-shadow: 0px 1px 3px 1px rgba(0, 0, 0, 0.15);\n",
              "      filter: drop-shadow(0px 1px 2px rgba(0, 0, 0, 0.3));\n",
              "      fill: #FFFFFF;\n",
              "    }\n",
              "  </style>\n",
              "\n",
              "      <script>\n",
              "        const buttonEl =\n",
              "          document.querySelector('#df-dd128014-9e35-4e2d-9d85-262bf624cdb0 button.colab-df-convert');\n",
              "        buttonEl.style.display =\n",
              "          google.colab.kernel.accessAllowed ? 'block' : 'none';\n",
              "\n",
              "        async function convertToInteractive(key) {\n",
              "          const element = document.querySelector('#df-dd128014-9e35-4e2d-9d85-262bf624cdb0');\n",
              "          const dataTable =\n",
              "            await google.colab.kernel.invokeFunction('convertToInteractive',\n",
              "                                                     [key], {});\n",
              "          if (!dataTable) return;\n",
              "\n",
              "          const docLinkHtml = 'Like what you see? Visit the ' +\n",
              "            '<a target=\"_blank\" href=https://colab.research.google.com/notebooks/data_table.ipynb>data table notebook</a>'\n",
              "            + ' to learn more about interactive tables.';\n",
              "          element.innerHTML = '';\n",
              "          dataTable['output_type'] = 'display_data';\n",
              "          await google.colab.output.renderOutput(dataTable, element);\n",
              "          const docLink = document.createElement('div');\n",
              "          docLink.innerHTML = docLinkHtml;\n",
              "          element.appendChild(docLink);\n",
              "        }\n",
              "      </script>\n",
              "    </div>\n",
              "  </div>\n",
              "  "
            ]
          },
          "metadata": {},
          "execution_count": 47
        }
      ]
    },
    {
      "cell_type": "code",
      "source": [
        "#Visualising the predicted values\n",
        "m.plot(forecast)"
      ],
      "metadata": {
        "colab": {
          "base_uri": "https://localhost:8080/",
          "height": 865
        },
        "id": "PFlFujJv4A8l",
        "outputId": "8287332a-f0e0-4d78-ca2a-7e449520a1c0"
      },
      "execution_count": 48,
      "outputs": [
        {
          "output_type": "execute_result",
          "data": {
            "text/plain": [
              "<Figure size 720x432 with 1 Axes>"
            ],
            "image/png": "[encoded data removed]"
          },
          "metadata": {},
          "execution_count": 48
        },
        {
          "output_type": "display_data",
          "data": {
            "text/plain": [
              "<Figure size 720x432 with 1 Axes>"
            ],
            "image/png": "[encoded data removed]"
          },
          "metadata": {}
        }
      ]
    },
    {
      "cell_type": "code",
      "source": [
        "output=forecast[['ds','yhat']]"
      ],
      "metadata": {
        "id": "O_3Aw0Pl3TxV"
      },
      "execution_count": 49,
      "outputs": []
    },
    {
      "cell_type": "code",
      "source": [
        "#Taking the last 30 days\n",
        "output=output[-30:]"
      ],
      "metadata": {
        "id": "M-MvDYcp39CX"
      },
      "execution_count": 50,
      "outputs": []
    },
    {
      "cell_type": "code",
      "source": [
        "output.head()"
      ],
      "metadata": {
        "colab": {
          "base_uri": "https://localhost:8080/",
          "height": 206
        },
        "id": "njwn6gO93_dg",
        "outputId": "e64c2a98-b489-49a2-a82d-e4d63f569d3c"
      },
      "execution_count": 51,
      "outputs": [
        {
          "output_type": "execute_result",
          "data": {
            "text/plain": [
              "             ds          yhat\n",
              "1163 2022-03-13  17548.479451\n",
              "1164 2022-03-14  17575.308053\n",
              "1165 2022-03-15  17604.594279\n",
              "1166 2022-03-16  17617.960120\n",
              "1167 2022-03-17  17638.915398"
            ],
            "text/html": [
              "\n",
              "  <div id=\"df-d39f0d62-e7d8-4443-aa68-b211116c5be8\">\n",
              "    <div class=\"colab-df-container\">\n",
              "      <div>\n",
              "<style scoped>\n",
              "    .dataframe tbody tr th:only-of-type {\n",
              "        vertical-align: middle;\n",
              "    }\n",
              "\n",
              "    .dataframe tbody tr th {\n",
              "        vertical-align: top;\n",
              "    }\n",
              "\n",
              "    .dataframe thead th {\n",
              "        text-align: right;\n",
              "    }\n",
              "</style>\n",
              "<table border=\"1\" class=\"dataframe\">\n",
              "  <thead>\n",
              "    <tr style=\"text-align: right;\">\n",
              "      <th></th>\n",
              "      <th>ds</th>\n",
              "      <th>yhat</th>\n",
              "    </tr>\n",
              "  </thead>\n",
              "  <tbody>\n",
              "    <tr>\n",
              "      <th>1163</th>\n",
              "      <td>2022-03-13</td>\n",
              "      <td>17548.479451</td>\n",
              "    </tr>\n",
              "    <tr>\n",
              "      <th>1164</th>\n",
              "      <td>2022-03-14</td>\n",
              "      <td>17575.308053</td>\n",
              "    </tr>\n",
              "    <tr>\n",
              "      <th>1165</th>\n",
              "      <td>2022-03-15</td>\n",
              "      <td>17604.594279</td>\n",
              "    </tr>\n",
              "    <tr>\n",
              "      <th>1166</th>\n",
              "      <td>2022-03-16</td>\n",
              "      <td>17617.960120</td>\n",
              "    </tr>\n",
              "    <tr>\n",
              "      <th>1167</th>\n",
              "      <td>2022-03-17</td>\n",
              "      <td>17638.915398</td>\n",
              "    </tr>\n",
              "  </tbody>\n",
              "</table>\n",
              "</div>\n",
              "      <button class=\"colab-df-convert\" onclick=\"convertToInteractive('df-d39f0d62-e7d8-4443-aa68-b211116c5be8')\"\n",
              "              title=\"Convert this dataframe to an interactive table.\"\n",
              "              style=\"display:none;\">\n",
              "        \n",
              "  <svg xmlns=\"http://www.w3.org/2000/svg\" height=\"24px\"viewBox=\"0 0 24 24\"\n",
              "       width=\"24px\">\n",
              "    <path d=\"M0 0h24v24H0V0z\" fill=\"none\"/>\n",
              "    <path d=\"M18.56 5.44l.94 2.06.94-2.06 2.06-.94-2.06-.94-.94-2.06-.94 2.06-2.06.94zm-11 1L8.5 8.5l.94-2.06 2.06-.94-2.06-.94L8.5 2.5l-.94 2.06-2.06.94zm10 10l.94 2.06.94-2.06 2.06-.94-2.06-.94-.94-2.06-.94 2.06-2.06.94z\"/><path d=\"M17.41 7.96l-1.37-1.37c-.4-.4-.92-.59-1.43-.59-.52 0-1.04.2-1.43.59L10.3 9.45l-7.72 7.72c-.78.78-.78 2.05 0 2.83L4 21.41c.39.39.9.59 1.41.59.51 0 1.02-.2 1.41-.59l7.78-7.78 2.81-2.81c.8-.78.8-2.07 0-2.86zM5.41 20L4 18.59l7.72-7.72 1.47 1.35L5.41 20z\"/>\n",
              "  </svg>\n",
              "      </button>\n",
              "      \n",
              "  <style>\n",
              "    .colab-df-container {\n",
              "      display:flex;\n",
              "      flex-wrap:wrap;\n",
              "      gap: 12px;\n",
              "    }\n",
              "\n",
              "    .colab-df-convert {\n",
              "      background-color: #E8F0FE;\n",
              "      border: none;\n",
              "      border-radius: 50%;\n",
              "      cursor: pointer;\n",
              "      display: none;\n",
              "      fill: #1967D2;\n",
              "      height: 32px;\n",
              "      padding: 0 0 0 0;\n",
              "      width: 32px;\n",
              "    }\n",
              "\n",
              "    .colab-df-convert:hover {\n",
              "      background-color: #E2EBFA;\n",
              "      box-shadow: 0px 1px 2px rgba(60, 64, 67, 0.3), 0px 1px 3px 1px rgba(60, 64, 67, 0.15);\n",
              "      fill: #174EA6;\n",
              "    }\n",
              "\n",
              "    [theme=dark] .colab-df-convert {\n",
              "      background-color: #3B4455;\n",
              "      fill: #D2E3FC;\n",
              "    }\n",
              "\n",
              "    [theme=dark] .colab-df-convert:hover {\n",
              "      background-color: #434B5C;\n",
              "      box-shadow: 0px 1px 3px 1px rgba(0, 0, 0, 0.15);\n",
              "      filter: drop-shadow(0px 1px 2px rgba(0, 0, 0, 0.3));\n",
              "      fill: #FFFFFF;\n",
              "    }\n",
              "  </style>\n",
              "\n",
              "      <script>\n",
              "        const buttonEl =\n",
              "          document.querySelector('#df-d39f0d62-e7d8-4443-aa68-b211116c5be8 button.colab-df-convert');\n",
              "        buttonEl.style.display =\n",
              "          google.colab.kernel.accessAllowed ? 'block' : 'none';\n",
              "\n",
              "        async function convertToInteractive(key) {\n",
              "          const element = document.querySelector('#df-d39f0d62-e7d8-4443-aa68-b211116c5be8');\n",
              "          const dataTable =\n",
              "            await google.colab.kernel.invokeFunction('convertToInteractive',\n",
              "                                                     [key], {});\n",
              "          if (!dataTable) return;\n",
              "\n",
              "          const docLinkHtml = 'Like what you see? Visit the ' +\n",
              "            '<a target=\"_blank\" href=https://colab.research.google.com/notebooks/data_table.ipynb>data table notebook</a>'\n",
              "            + ' to learn more about interactive tables.';\n",
              "          element.innerHTML = '';\n",
              "          dataTable['output_type'] = 'display_data';\n",
              "          await google.colab.output.renderOutput(dataTable, element);\n",
              "          const docLink = document.createElement('div');\n",
              "          docLink.innerHTML = docLinkHtml;\n",
              "          element.appendChild(docLink);\n",
              "        }\n",
              "      </script>\n",
              "    </div>\n",
              "  </div>\n",
              "  "
            ]
          },
          "metadata": {},
          "execution_count": 51
        }
      ]
    },
    {
      "cell_type": "code",
      "source": [
        "output.to_csv('output_data.csv')"
      ],
      "metadata": {
        "id": "ZWhVXcV2ISMm"
      },
      "execution_count": 52,
      "outputs": []
    },
    {
      "cell_type": "markdown",
      "source": [
        "<h1><b>Method 2: Building an LSTM-stacked RNN</b></h1>"
      ],
      "metadata": {
        "id": "HT383odMPpA5"
      }
    },
    {
      "cell_type": "code",
      "source": [
        "#Taking only the 'Adj Close' feature for building the RNN model\n",
        "data=data1['Adj Close']\n",
        "data.head()"
      ],
      "metadata": {
        "id": "HRP5FijARuLG",
        "colab": {
          "base_uri": "https://localhost:8080/"
        },
        "outputId": "da962a85-3072-4ad6-e140-28e7d1486b46"
      },
      "execution_count": 12,
      "outputs": [
        {
          "output_type": "execute_result",
          "data": {
            "text/plain": [
              "0    9616.400391\n",
              "1    9606.900391\n",
              "2    9618.150391\n",
              "3    9578.049805\n",
              "4    9588.049805\n",
              "Name: Adj Close, dtype: float64"
            ]
          },
          "metadata": {},
          "execution_count": 12
        }
      ]
    },
    {
      "cell_type": "markdown",
      "source": [
        "<b>Scaling the data</b>"
      ],
      "metadata": {
        "id": "HwmdpYU8TuOa"
      }
    },
    {
      "cell_type": "code",
      "source": [
        "from sklearn.preprocessing import MinMaxScaler\n",
        "import numpy as np\n",
        "\n",
        "#Calling the Scaler object\n",
        "scaler=MinMaxScaler()\n",
        "\n",
        "#Transforming the data\n",
        "data=scaler.fit_transform(np.array(data).reshape(-1,1))"
      ],
      "metadata": {
        "id": "UuTAM9ZugSrj"
      },
      "execution_count": 13,
      "outputs": []
    },
    {
      "cell_type": "code",
      "source": [
        "data[:10]"
      ],
      "metadata": {
        "colab": {
          "base_uri": "https://localhost:8080/"
        },
        "id": "bTSH4e-JgbDD",
        "outputId": "5221bcdb-2222-489d-ad15-6bfaa507836b"
      },
      "execution_count": 14,
      "outputs": [
        {
          "output_type": "execute_result",
          "data": {
            "text/plain": [
              "array([[0.18461279],\n",
              "       [0.18373857],\n",
              "       [0.18477383],\n",
              "       [0.18108364],\n",
              "       [0.18200387],\n",
              "       [0.1883995 ],\n",
              "       [0.18802682],\n",
              "       [0.18619552],\n",
              "       [0.18586427],\n",
              "       [0.1807984 ]])"
            ]
          },
          "metadata": {},
          "execution_count": 14
        }
      ]
    },
    {
      "cell_type": "markdown",
      "source": [
        "<b>Train Test split</b>"
      ],
      "metadata": {
        "id": "IvbdkFMAT-D3"
      }
    },
    {
      "cell_type": "code",
      "source": [
        "train_size=int(len(data)*0.7)\n",
        "train_size"
      ],
      "metadata": {
        "colab": {
          "base_uri": "https://localhost:8080/"
        },
        "id": "c1tmAyYaQRml",
        "outputId": "43869ead-6479-43b5-8162-8d20ffa09a77"
      },
      "execution_count": 15,
      "outputs": [
        {
          "output_type": "execute_result",
          "data": {
            "text/plain": [
              "814"
            ]
          },
          "metadata": {},
          "execution_count": 15
        }
      ]
    },
    {
      "cell_type": "code",
      "source": [
        "#Taking the first 70 percent data for training\n",
        "train=data[:814]\n",
        "\n",
        "#Taking the remaining data for validation data\n",
        "test=data[814:]"
      ],
      "metadata": {
        "id": "pON7jcIDQ9WO"
      },
      "execution_count": 16,
      "outputs": []
    },
    {
      "cell_type": "code",
      "source": [
        "train[0:5]"
      ],
      "metadata": {
        "colab": {
          "base_uri": "https://localhost:8080/"
        },
        "id": "SdpIah1qRDka",
        "outputId": "306e4984-1574-44cf-8637-40ab1704bd0e"
      },
      "execution_count": 17,
      "outputs": [
        {
          "output_type": "execute_result",
          "data": {
            "text/plain": [
              "array([[0.18461279],\n",
              "       [0.18373857],\n",
              "       [0.18477383],\n",
              "       [0.18108364],\n",
              "       [0.18200387]])"
            ]
          },
          "metadata": {},
          "execution_count": 17
        }
      ]
    },
    {
      "cell_type": "markdown",
      "source": [
        "<b>To build the RNN, we need to convert our training data into sequences</b>"
      ],
      "metadata": {
        "id": "sBQoy6fXUV_1"
      }
    },
    {
      "cell_type": "code",
      "source": [
        "def create_sequences(data,seq_len):\n",
        "  X=[]\n",
        "  for i in range(seq_len+1,len(data)):\n",
        "    a=data[i-seq_len:i]\n",
        "    X.append(a)\n",
        "  return np.array(X)"
      ],
      "metadata": {
        "id": "yrlI0Sk9RNmD"
      },
      "execution_count": 19,
      "outputs": []
    },
    {
      "cell_type": "code",
      "source": [
        "#Choosing sequence of length 30 to predict the next value\n",
        "seq_len=30 + 1\n",
        "\n",
        "#Converting the training data into a sequence\n",
        "train_data=create_sequences(train,seq_len)\n",
        "\n",
        "#Converting the testing data into a sequence\n",
        "test_data=create_sequences(test,seq_len)\n",
        "\n"
      ],
      "metadata": {
        "id": "PGiKnel5T4xX"
      },
      "execution_count": 20,
      "outputs": []
    },
    {
      "cell_type": "code",
      "source": [
        "train_data=np.array(train_data)"
      ],
      "metadata": {
        "id": "O6OS1Ck3WOs9"
      },
      "execution_count": 21,
      "outputs": []
    },
    {
      "cell_type": "code",
      "source": [
        "X=train_data[:,:-1]\n",
        "y=train_data[:,-1]"
      ],
      "metadata": {
        "id": "Nts_BSRXYQjZ"
      },
      "execution_count": 22,
      "outputs": []
    },
    {
      "cell_type": "code",
      "source": [
        "test_data=np.array(test_data)"
      ],
      "metadata": {
        "id": "cCzw_bODg3cp"
      },
      "execution_count": 23,
      "outputs": []
    },
    {
      "cell_type": "code",
      "source": [
        "#The first 30 elements form the input\n",
        "X_test=test_data[:,:-1]\n",
        "\n",
        "#The last element forms the label\n",
        "y_test=test_data[:,-1]"
      ],
      "metadata": {
        "id": "jt6Svcaug7K3"
      },
      "execution_count": 24,
      "outputs": []
    },
    {
      "cell_type": "markdown",
      "source": [
        "<b>Creating the model</b>"
      ],
      "metadata": {
        "id": "I8y3yUwoU71x"
      }
    },
    {
      "cell_type": "code",
      "source": [
        "#importing the layers to build an RNN\n",
        "import keras\n",
        "from keras.models import Sequential\n",
        "from keras.layers import Embedding,LSTM,Dense"
      ],
      "metadata": {
        "id": "xAmO7xW3es87"
      },
      "execution_count": 25,
      "outputs": []
    },
    {
      "cell_type": "code",
      "source": [
        "model=Sequential()\n",
        "model.add(LSTM(200,return_sequences=True,input_shape=(X.shape[1],1)))\n",
        "model.add(LSTM(200,return_sequences=True))\n",
        "model.add(LSTM(200))\n",
        "model.add(Dense(1))\n",
        "model.compile(loss='mean_squared_error',optimizer='adam')"
      ],
      "metadata": {
        "id": "AEBUOQ4PfQag"
      },
      "execution_count": 32,
      "outputs": []
    },
    {
      "cell_type": "code",
      "source": [
        "model.summary()"
      ],
      "metadata": {
        "colab": {
          "base_uri": "https://localhost:8080/"
        },
        "id": "Xqh-grwGfaoW",
        "outputId": "7de13e2c-9b27-4204-9a17-c64fdf0e2cd6"
      },
      "execution_count": 33,
      "outputs": [
        {
          "output_type": "stream",
          "name": "stdout",
          "text": [
            "Model: \"sequential\"\n",
            "_________________________________________________________________\n",
            " Layer (type)                Output Shape              Param #   \n",
            "=================================================================\n",
            " lstm (LSTM)                 (None, 30, 200)           161600    \n",
            "                                                                 \n",
            " lstm_1 (LSTM)               (None, 30, 200)           320800    \n",
            "                                                                 \n",
            " lstm_2 (LSTM)               (None, 200)               320800    \n",
            "                                                                 \n",
            " dense (Dense)               (None, 1)                 201       \n",
            "                                                                 \n",
            "=================================================================\n",
            "Total params: 803,401\n",
            "Trainable params: 803,401\n",
            "Non-trainable params: 0\n",
            "_________________________________________________________________\n"
          ]
        }
      ]
    },
    {
      "cell_type": "code",
      "source": [
        "#Fitting the model\n",
        "model.fit(X,y,epochs=300,validation_data=(X_test,y_test))"
      ],
      "metadata": {
        "colab": {
          "base_uri": "https://localhost:8080/"
        },
        "id": "_Y6oAl4bfdHX",
        "outputId": "07e4b4f9-08f0-4314-cce4-eb13391d336c"
      },
      "execution_count": 34,
      "outputs": [
        {
          "output_type": "stream",
          "name": "stdout",
          "text": [
            "Epoch 1/300\n",
            "25/25 [==============================] - 13s 316ms/step - loss: 0.0100 - val_loss: 0.0597\n",
            "Epoch 2/300\n",
            "25/25 [==============================] - 7s 266ms/step - loss: 0.0019 - val_loss: 0.0358\n",
            "Epoch 3/300\n",
            "25/25 [==============================] - 6s 260ms/step - loss: 0.0012 - val_loss: 0.0094\n",
            "Epoch 4/300\n",
            "25/25 [==============================] - 6s 261ms/step - loss: 9.5049e-04 - val_loss: 9.9063e-04\n",
            "Epoch 5/300\n",
            "25/25 [==============================] - 8s 305ms/step - loss: 8.2443e-04 - val_loss: 0.0026\n",
            "Epoch 6/300\n",
            "25/25 [==============================] - 7s 268ms/step - loss: 6.7073e-04 - val_loss: 0.0027\n",
            "Epoch 7/300\n",
            "25/25 [==============================] - 7s 300ms/step - loss: 6.2033e-04 - val_loss: 0.0039\n",
            "Epoch 8/300\n",
            "25/25 [==============================] - 7s 262ms/step - loss: 6.6144e-04 - val_loss: 8.9237e-04\n",
            "Epoch 9/300\n",
            "25/25 [==============================] - 6s 261ms/step - loss: 5.4003e-04 - val_loss: 0.0014\n",
            "Epoch 10/300\n",
            "25/25 [==============================] - 7s 267ms/step - loss: 5.2635e-04 - val_loss: 0.0049\n",
            "Epoch 11/300\n",
            "25/25 [==============================] - 7s 261ms/step - loss: 4.9889e-04 - val_loss: 0.0012\n",
            "Epoch 12/300\n",
            "25/25 [==============================] - 7s 262ms/step - loss: 4.8129e-04 - val_loss: 0.0046\n",
            "Epoch 13/300\n",
            "25/25 [==============================] - 7s 263ms/step - loss: 5.1263e-04 - val_loss: 0.0012\n",
            "Epoch 14/300\n",
            "25/25 [==============================] - 7s 262ms/step - loss: 4.3818e-04 - val_loss: 0.0016\n",
            "Epoch 15/300\n",
            "25/25 [==============================] - 6s 260ms/step - loss: 4.4898e-04 - val_loss: 0.0013\n",
            "Epoch 16/300\n",
            "25/25 [==============================] - 6s 260ms/step - loss: 4.4107e-04 - val_loss: 0.0023\n",
            "Epoch 17/300\n",
            "25/25 [==============================] - 7s 263ms/step - loss: 3.9919e-04 - val_loss: 0.0013\n",
            "Epoch 18/300\n",
            "25/25 [==============================] - 6s 258ms/step - loss: 4.2694e-04 - val_loss: 0.0013\n",
            "Epoch 19/300\n",
            "25/25 [==============================] - 6s 259ms/step - loss: 3.8282e-04 - val_loss: 0.0058\n",
            "Epoch 20/300\n",
            "25/25 [==============================] - 6s 261ms/step - loss: 3.5850e-04 - val_loss: 0.0091\n",
            "Epoch 21/300\n",
            "25/25 [==============================] - 6s 255ms/step - loss: 4.1301e-04 - val_loss: 0.0064\n",
            "Epoch 22/300\n",
            "25/25 [==============================] - 7s 296ms/step - loss: 4.0737e-04 - val_loss: 0.0022\n",
            "Epoch 23/300\n",
            "25/25 [==============================] - 6s 261ms/step - loss: 3.5561e-04 - val_loss: 0.0070\n",
            "Epoch 24/300\n",
            "25/25 [==============================] - 7s 266ms/step - loss: 3.3926e-04 - val_loss: 0.0019\n",
            "Epoch 25/300\n",
            "25/25 [==============================] - 7s 262ms/step - loss: 3.3278e-04 - val_loss: 0.0033\n",
            "Epoch 26/300\n",
            "25/25 [==============================] - 6s 262ms/step - loss: 3.1351e-04 - val_loss: 0.0015\n",
            "Epoch 27/300\n",
            "25/25 [==============================] - 7s 266ms/step - loss: 3.6087e-04 - val_loss: 0.0038\n",
            "Epoch 28/300\n",
            "25/25 [==============================] - 7s 268ms/step - loss: 3.3550e-04 - val_loss: 0.0020\n",
            "Epoch 29/300\n",
            "25/25 [==============================] - 7s 269ms/step - loss: 3.2253e-04 - val_loss: 0.0083\n",
            "Epoch 30/300\n",
            "25/25 [==============================] - 7s 266ms/step - loss: 3.5502e-04 - val_loss: 0.0056\n",
            "Epoch 31/300\n",
            "25/25 [==============================] - 7s 262ms/step - loss: 2.9356e-04 - val_loss: 0.0010\n",
            "Epoch 32/300\n",
            "25/25 [==============================] - 6s 260ms/step - loss: 2.6160e-04 - val_loss: 0.0047\n",
            "Epoch 33/300\n",
            "25/25 [==============================] - 6s 261ms/step - loss: 2.6402e-04 - val_loss: 0.0011\n",
            "Epoch 34/300\n",
            "25/25 [==============================] - 7s 263ms/step - loss: 2.6009e-04 - val_loss: 0.0018\n",
            "Epoch 35/300\n",
            "25/25 [==============================] - 7s 265ms/step - loss: 2.4963e-04 - val_loss: 7.6246e-04\n",
            "Epoch 36/300\n",
            "25/25 [==============================] - 7s 269ms/step - loss: 2.4534e-04 - val_loss: 0.0023\n",
            "Epoch 37/300\n",
            "25/25 [==============================] - 7s 265ms/step - loss: 2.2983e-04 - val_loss: 0.0055\n",
            "Epoch 38/300\n",
            "25/25 [==============================] - 7s 265ms/step - loss: 2.5994e-04 - val_loss: 0.0023\n",
            "Epoch 39/300\n",
            "25/25 [==============================] - 7s 269ms/step - loss: 2.2716e-04 - val_loss: 0.0014\n",
            "Epoch 40/300\n",
            "25/25 [==============================] - 7s 270ms/step - loss: 2.2495e-04 - val_loss: 0.0025\n",
            "Epoch 41/300\n",
            "25/25 [==============================] - 7s 267ms/step - loss: 2.3257e-04 - val_loss: 0.0029\n",
            "Epoch 42/300\n",
            "25/25 [==============================] - 7s 268ms/step - loss: 2.1985e-04 - val_loss: 0.0013\n",
            "Epoch 43/300\n",
            "25/25 [==============================] - 7s 269ms/step - loss: 2.1504e-04 - val_loss: 0.0018\n",
            "Epoch 44/300\n",
            "25/25 [==============================] - 7s 263ms/step - loss: 2.0331e-04 - val_loss: 0.0043\n",
            "Epoch 45/300\n",
            "25/25 [==============================] - 7s 268ms/step - loss: 2.2116e-04 - val_loss: 0.0029\n",
            "Epoch 46/300\n",
            "25/25 [==============================] - 7s 265ms/step - loss: 1.9935e-04 - val_loss: 0.0018\n",
            "Epoch 47/300\n",
            "25/25 [==============================] - 7s 266ms/step - loss: 1.9430e-04 - val_loss: 0.0016\n",
            "Epoch 48/300\n",
            "25/25 [==============================] - 7s 265ms/step - loss: 1.9428e-04 - val_loss: 0.0030\n",
            "Epoch 49/300\n",
            "25/25 [==============================] - 7s 261ms/step - loss: 2.1380e-04 - val_loss: 0.0047\n",
            "Epoch 50/300\n",
            "25/25 [==============================] - 7s 263ms/step - loss: 1.7390e-04 - val_loss: 0.0122\n",
            "Epoch 51/300\n",
            "25/25 [==============================] - 7s 262ms/step - loss: 1.6908e-04 - val_loss: 0.0051\n",
            "Epoch 52/300\n",
            "25/25 [==============================] - 7s 262ms/step - loss: 1.8359e-04 - val_loss: 0.0027\n",
            "Epoch 53/300\n",
            "25/25 [==============================] - 7s 265ms/step - loss: 2.0880e-04 - val_loss: 0.0030\n",
            "Epoch 54/300\n",
            "25/25 [==============================] - 7s 264ms/step - loss: 1.7121e-04 - val_loss: 0.0048\n",
            "Epoch 55/300\n",
            "25/25 [==============================] - 7s 263ms/step - loss: 1.6406e-04 - val_loss: 0.0034\n",
            "Epoch 56/300\n",
            "25/25 [==============================] - 7s 262ms/step - loss: 1.7387e-04 - val_loss: 8.4740e-04\n",
            "Epoch 57/300\n",
            "25/25 [==============================] - 7s 264ms/step - loss: 1.9254e-04 - val_loss: 0.0011\n",
            "Epoch 58/300\n",
            "25/25 [==============================] - 7s 262ms/step - loss: 2.0690e-04 - val_loss: 7.4067e-04\n",
            "Epoch 59/300\n",
            "25/25 [==============================] - 7s 263ms/step - loss: 2.0420e-04 - val_loss: 4.7632e-04\n",
            "Epoch 60/300\n",
            "25/25 [==============================] - 8s 307ms/step - loss: 2.0406e-04 - val_loss: 0.0026\n",
            "Epoch 61/300\n",
            "25/25 [==============================] - 7s 262ms/step - loss: 1.6954e-04 - val_loss: 0.0036\n",
            "Epoch 62/300\n",
            "25/25 [==============================] - 6s 260ms/step - loss: 1.5620e-04 - val_loss: 0.0039\n",
            "Epoch 63/300\n",
            "25/25 [==============================] - 7s 262ms/step - loss: 2.0369e-04 - val_loss: 9.9330e-04\n",
            "Epoch 64/300\n",
            "25/25 [==============================] - 7s 262ms/step - loss: 2.1205e-04 - val_loss: 5.1452e-04\n",
            "Epoch 65/300\n",
            "25/25 [==============================] - 7s 263ms/step - loss: 1.8514e-04 - val_loss: 0.0030\n",
            "Epoch 66/300\n",
            "25/25 [==============================] - 7s 264ms/step - loss: 1.8622e-04 - val_loss: 0.0032\n",
            "Epoch 67/300\n",
            "25/25 [==============================] - 7s 265ms/step - loss: 1.7038e-04 - val_loss: 0.0031\n",
            "Epoch 68/300\n",
            "25/25 [==============================] - 7s 267ms/step - loss: 1.4861e-04 - val_loss: 0.0014\n",
            "Epoch 69/300\n",
            "25/25 [==============================] - 7s 264ms/step - loss: 1.5320e-04 - val_loss: 9.2456e-04\n",
            "Epoch 70/300\n",
            "25/25 [==============================] - 7s 261ms/step - loss: 1.7568e-04 - val_loss: 0.0045\n",
            "Epoch 71/300\n",
            "25/25 [==============================] - 7s 262ms/step - loss: 1.6969e-04 - val_loss: 8.5417e-04\n",
            "Epoch 72/300\n",
            "25/25 [==============================] - 7s 263ms/step - loss: 1.3912e-04 - val_loss: 7.7439e-04\n",
            "Epoch 73/300\n",
            "25/25 [==============================] - 7s 265ms/step - loss: 1.4361e-04 - val_loss: 8.6338e-04\n",
            "Epoch 74/300\n",
            "25/25 [==============================] - 7s 265ms/step - loss: 1.5164e-04 - val_loss: 9.7175e-04\n",
            "Epoch 75/300\n",
            "25/25 [==============================] - 7s 265ms/step - loss: 1.6695e-04 - val_loss: 0.0032\n",
            "Epoch 76/300\n",
            "25/25 [==============================] - 7s 265ms/step - loss: 1.6141e-04 - val_loss: 7.1490e-04\n",
            "Epoch 77/300\n",
            "25/25 [==============================] - 7s 266ms/step - loss: 1.6693e-04 - val_loss: 8.6758e-04\n",
            "Epoch 78/300\n",
            "25/25 [==============================] - 7s 268ms/step - loss: 1.6074e-04 - val_loss: 7.9079e-04\n",
            "Epoch 79/300\n",
            "25/25 [==============================] - 7s 265ms/step - loss: 1.4905e-04 - val_loss: 0.0032\n",
            "Epoch 80/300\n",
            "25/25 [==============================] - 7s 267ms/step - loss: 1.6872e-04 - val_loss: 6.2308e-04\n",
            "Epoch 81/300\n",
            "25/25 [==============================] - 7s 269ms/step - loss: 1.4952e-04 - val_loss: 7.3508e-04\n",
            "Epoch 82/300\n",
            "25/25 [==============================] - 7s 266ms/step - loss: 1.4779e-04 - val_loss: 0.0012\n",
            "Epoch 83/300\n",
            "25/25 [==============================] - 7s 264ms/step - loss: 1.4288e-04 - val_loss: 0.0029\n",
            "Epoch 84/300\n",
            "25/25 [==============================] - 7s 267ms/step - loss: 1.4645e-04 - val_loss: 0.0013\n",
            "Epoch 85/300\n",
            "25/25 [==============================] - 7s 263ms/step - loss: 1.4553e-04 - val_loss: 0.0027\n",
            "Epoch 86/300\n",
            "25/25 [==============================] - 7s 269ms/step - loss: 1.6106e-04 - val_loss: 0.0015\n",
            "Epoch 87/300\n",
            "25/25 [==============================] - 7s 268ms/step - loss: 1.4287e-04 - val_loss: 9.9525e-04\n",
            "Epoch 88/300\n",
            "25/25 [==============================] - 7s 267ms/step - loss: 1.7122e-04 - val_loss: 0.0012\n",
            "Epoch 89/300\n",
            "25/25 [==============================] - 7s 268ms/step - loss: 1.5474e-04 - val_loss: 4.3955e-04\n",
            "Epoch 90/300\n",
            "25/25 [==============================] - 7s 266ms/step - loss: 1.4938e-04 - val_loss: 0.0017\n",
            "Epoch 91/300\n",
            "25/25 [==============================] - 7s 269ms/step - loss: 1.3924e-04 - val_loss: 0.0017\n",
            "Epoch 92/300\n",
            "25/25 [==============================] - 7s 270ms/step - loss: 1.4441e-04 - val_loss: 4.4243e-04\n",
            "Epoch 93/300\n",
            "25/25 [==============================] - 7s 273ms/step - loss: 1.7360e-04 - val_loss: 5.1639e-04\n",
            "Epoch 94/300\n",
            "25/25 [==============================] - 7s 268ms/step - loss: 1.4653e-04 - val_loss: 5.3883e-04\n",
            "Epoch 95/300\n",
            "25/25 [==============================] - 7s 267ms/step - loss: 1.5508e-04 - val_loss: 0.0010\n",
            "Epoch 96/300\n",
            "25/25 [==============================] - 7s 267ms/step - loss: 1.7423e-04 - val_loss: 0.0016\n",
            "Epoch 97/300\n",
            "25/25 [==============================] - 7s 269ms/step - loss: 2.1164e-04 - val_loss: 9.6639e-04\n",
            "Epoch 98/300\n",
            "25/25 [==============================] - 7s 266ms/step - loss: 1.5129e-04 - val_loss: 5.3877e-04\n",
            "Epoch 99/300\n",
            "25/25 [==============================] - 7s 266ms/step - loss: 1.4443e-04 - val_loss: 5.2947e-04\n",
            "Epoch 100/300\n",
            "25/25 [==============================] - 7s 272ms/step - loss: 1.4453e-04 - val_loss: 9.7118e-04\n",
            "Epoch 101/300\n",
            "25/25 [==============================] - 7s 269ms/step - loss: 1.4651e-04 - val_loss: 7.2876e-04\n",
            "Epoch 102/300\n",
            "25/25 [==============================] - 7s 269ms/step - loss: 1.7258e-04 - val_loss: 0.0011\n",
            "Epoch 103/300\n",
            "25/25 [==============================] - 7s 267ms/step - loss: 1.4658e-04 - val_loss: 3.8511e-04\n",
            "Epoch 104/300\n",
            "25/25 [==============================] - 7s 266ms/step - loss: 1.4045e-04 - val_loss: 0.0010\n",
            "Epoch 105/300\n",
            "25/25 [==============================] - 7s 267ms/step - loss: 1.6899e-04 - val_loss: 7.5593e-04\n",
            "Epoch 106/300\n",
            "25/25 [==============================] - 7s 272ms/step - loss: 1.4046e-04 - val_loss: 4.1275e-04\n",
            "Epoch 107/300\n",
            "25/25 [==============================] - 8s 310ms/step - loss: 1.4895e-04 - val_loss: 5.4080e-04\n",
            "Epoch 108/300\n",
            "25/25 [==============================] - 7s 267ms/step - loss: 1.3689e-04 - val_loss: 6.5141e-04\n",
            "Epoch 109/300\n",
            "25/25 [==============================] - 7s 269ms/step - loss: 1.4428e-04 - val_loss: 8.7120e-04\n",
            "Epoch 110/300\n",
            "25/25 [==============================] - 7s 266ms/step - loss: 1.4910e-04 - val_loss: 5.1028e-04\n",
            "Epoch 111/300\n",
            "25/25 [==============================] - 7s 270ms/step - loss: 1.5261e-04 - val_loss: 0.0018\n",
            "Epoch 112/300\n",
            "25/25 [==============================] - 7s 265ms/step - loss: 1.4804e-04 - val_loss: 0.0026\n",
            "Epoch 113/300\n",
            "25/25 [==============================] - 7s 268ms/step - loss: 2.3289e-04 - val_loss: 0.0013\n",
            "Epoch 114/300\n",
            "25/25 [==============================] - 7s 268ms/step - loss: 1.6947e-04 - val_loss: 0.0016\n",
            "Epoch 115/300\n",
            "25/25 [==============================] - 7s 266ms/step - loss: 1.5052e-04 - val_loss: 7.6093e-04\n",
            "Epoch 116/300\n",
            "25/25 [==============================] - 7s 267ms/step - loss: 1.3605e-04 - val_loss: 6.0817e-04\n",
            "Epoch 117/300\n",
            "25/25 [==============================] - 7s 268ms/step - loss: 1.5319e-04 - val_loss: 4.4410e-04\n",
            "Epoch 118/300\n",
            "25/25 [==============================] - 7s 266ms/step - loss: 1.6805e-04 - val_loss: 4.7824e-04\n",
            "Epoch 119/300\n",
            "25/25 [==============================] - 7s 267ms/step - loss: 1.7192e-04 - val_loss: 0.0025\n",
            "Epoch 120/300\n",
            "25/25 [==============================] - 7s 268ms/step - loss: 1.4400e-04 - val_loss: 7.1501e-04\n",
            "Epoch 121/300\n",
            "25/25 [==============================] - 7s 269ms/step - loss: 1.6853e-04 - val_loss: 0.0011\n",
            "Epoch 122/300\n",
            "25/25 [==============================] - 7s 269ms/step - loss: 1.4516e-04 - val_loss: 0.0018\n",
            "Epoch 123/300\n",
            "25/25 [==============================] - 7s 270ms/step - loss: 1.3803e-04 - val_loss: 4.1386e-04\n",
            "Epoch 124/300\n",
            "25/25 [==============================] - 7s 270ms/step - loss: 1.4099e-04 - val_loss: 0.0019\n",
            "Epoch 125/300\n",
            "25/25 [==============================] - 7s 266ms/step - loss: 1.4196e-04 - val_loss: 0.0015\n",
            "Epoch 126/300\n",
            "25/25 [==============================] - 7s 265ms/step - loss: 1.6594e-04 - val_loss: 0.0011\n",
            "Epoch 127/300\n",
            "25/25 [==============================] - 7s 267ms/step - loss: 1.5610e-04 - val_loss: 0.0012\n",
            "Epoch 128/300\n",
            "25/25 [==============================] - 7s 270ms/step - loss: 1.4071e-04 - val_loss: 0.0013\n",
            "Epoch 129/300\n",
            "25/25 [==============================] - 7s 272ms/step - loss: 1.5601e-04 - val_loss: 5.6351e-04\n",
            "Epoch 130/300\n",
            "25/25 [==============================] - 7s 265ms/step - loss: 1.3879e-04 - val_loss: 6.9881e-04\n",
            "Epoch 131/300\n",
            "25/25 [==============================] - 7s 268ms/step - loss: 1.9587e-04 - val_loss: 4.4290e-04\n",
            "Epoch 132/300\n",
            "25/25 [==============================] - 7s 268ms/step - loss: 2.2954e-04 - val_loss: 4.9627e-04\n",
            "Epoch 133/300\n",
            "25/25 [==============================] - 7s 269ms/step - loss: 1.7302e-04 - val_loss: 5.9961e-04\n",
            "Epoch 134/300\n",
            "25/25 [==============================] - 7s 269ms/step - loss: 1.6139e-04 - val_loss: 0.0018\n",
            "Epoch 135/300\n",
            "25/25 [==============================] - 7s 268ms/step - loss: 2.0584e-04 - val_loss: 0.0039\n",
            "Epoch 136/300\n",
            "25/25 [==============================] - 7s 267ms/step - loss: 1.8266e-04 - val_loss: 4.3943e-04\n",
            "Epoch 137/300\n",
            "25/25 [==============================] - 7s 267ms/step - loss: 2.0286e-04 - val_loss: 0.0020\n",
            "Epoch 138/300\n",
            "25/25 [==============================] - 7s 265ms/step - loss: 1.5142e-04 - val_loss: 0.0025\n",
            "Epoch 139/300\n",
            "25/25 [==============================] - 7s 268ms/step - loss: 1.3909e-04 - val_loss: 0.0043\n",
            "Epoch 140/300\n",
            "25/25 [==============================] - 7s 265ms/step - loss: 1.4557e-04 - val_loss: 4.1494e-04\n",
            "Epoch 141/300\n",
            "25/25 [==============================] - 7s 263ms/step - loss: 1.4516e-04 - val_loss: 0.0013\n",
            "Epoch 142/300\n",
            "25/25 [==============================] - 7s 269ms/step - loss: 1.3644e-04 - val_loss: 0.0031\n",
            "Epoch 143/300\n",
            "25/25 [==============================] - 7s 269ms/step - loss: 1.4354e-04 - val_loss: 6.9150e-04\n",
            "Epoch 144/300\n",
            "25/25 [==============================] - 7s 268ms/step - loss: 1.4546e-04 - val_loss: 6.8148e-04\n",
            "Epoch 145/300\n",
            "25/25 [==============================] - 7s 266ms/step - loss: 1.3372e-04 - val_loss: 5.9564e-04\n",
            "Epoch 146/300\n",
            "25/25 [==============================] - 7s 270ms/step - loss: 1.4139e-04 - val_loss: 0.0010\n",
            "Epoch 147/300\n",
            "25/25 [==============================] - 7s 265ms/step - loss: 1.3456e-04 - val_loss: 0.0031\n",
            "Epoch 148/300\n",
            "25/25 [==============================] - 7s 266ms/step - loss: 1.4025e-04 - val_loss: 3.9521e-04\n",
            "Epoch 149/300\n",
            "25/25 [==============================] - 7s 270ms/step - loss: 1.4723e-04 - val_loss: 6.9190e-04\n",
            "Epoch 150/300\n",
            "25/25 [==============================] - 7s 267ms/step - loss: 1.4396e-04 - val_loss: 0.0019\n",
            "Epoch 151/300\n",
            "25/25 [==============================] - 7s 268ms/step - loss: 1.6675e-04 - val_loss: 0.0034\n",
            "Epoch 152/300\n",
            "25/25 [==============================] - 7s 268ms/step - loss: 1.6301e-04 - val_loss: 0.0011\n",
            "Epoch 153/300\n",
            "25/25 [==============================] - 7s 268ms/step - loss: 1.6086e-04 - val_loss: 0.0021\n",
            "Epoch 154/300\n",
            "25/25 [==============================] - 8s 312ms/step - loss: 1.5497e-04 - val_loss: 5.1087e-04\n",
            "Epoch 155/300\n",
            "25/25 [==============================] - 7s 262ms/step - loss: 1.8642e-04 - val_loss: 6.8142e-04\n",
            "Epoch 156/300\n",
            "25/25 [==============================] - 6s 261ms/step - loss: 1.5112e-04 - val_loss: 4.5427e-04\n",
            "Epoch 157/300\n",
            "25/25 [==============================] - 7s 263ms/step - loss: 1.7258e-04 - val_loss: 8.3891e-04\n",
            "Epoch 158/300\n",
            "25/25 [==============================] - 7s 268ms/step - loss: 1.5086e-04 - val_loss: 0.0012\n",
            "Epoch 159/300\n",
            "25/25 [==============================] - 7s 271ms/step - loss: 1.5632e-04 - val_loss: 0.0021\n",
            "Epoch 160/300\n",
            "25/25 [==============================] - 7s 272ms/step - loss: 1.4947e-04 - val_loss: 0.0021\n",
            "Epoch 161/300\n",
            "25/25 [==============================] - 7s 274ms/step - loss: 1.3803e-04 - val_loss: 0.0011\n",
            "Epoch 162/300\n",
            "25/25 [==============================] - 7s 274ms/step - loss: 1.4523e-04 - val_loss: 0.0030\n",
            "Epoch 163/300\n",
            "25/25 [==============================] - 7s 272ms/step - loss: 1.6010e-04 - val_loss: 0.0013\n",
            "Epoch 164/300\n",
            "25/25 [==============================] - 7s 273ms/step - loss: 1.6685e-04 - val_loss: 0.0024\n",
            "Epoch 165/300\n",
            "25/25 [==============================] - 7s 281ms/step - loss: 1.6481e-04 - val_loss: 0.0036\n",
            "Epoch 166/300\n",
            "25/25 [==============================] - 7s 275ms/step - loss: 1.4370e-04 - val_loss: 0.0012\n",
            "Epoch 167/300\n",
            "25/25 [==============================] - 7s 276ms/step - loss: 1.5403e-04 - val_loss: 0.0011\n",
            "Epoch 168/300\n",
            "25/25 [==============================] - 7s 278ms/step - loss: 1.7468e-04 - val_loss: 0.0038\n",
            "Epoch 169/300\n",
            "25/25 [==============================] - 7s 277ms/step - loss: 1.6152e-04 - val_loss: 0.0010\n",
            "Epoch 170/300\n",
            "25/25 [==============================] - 7s 275ms/step - loss: 1.3248e-04 - val_loss: 0.0012\n",
            "Epoch 171/300\n",
            "25/25 [==============================] - 7s 279ms/step - loss: 1.4932e-04 - val_loss: 5.0811e-04\n",
            "Epoch 172/300\n",
            "25/25 [==============================] - 7s 272ms/step - loss: 1.3820e-04 - val_loss: 4.2528e-04\n",
            "Epoch 173/300\n",
            "25/25 [==============================] - 7s 275ms/step - loss: 1.3659e-04 - val_loss: 6.7473e-04\n",
            "Epoch 174/300\n",
            "25/25 [==============================] - 7s 274ms/step - loss: 1.5898e-04 - val_loss: 0.0016\n",
            "Epoch 175/300\n",
            "25/25 [==============================] - 7s 271ms/step - loss: 1.5449e-04 - val_loss: 0.0014\n",
            "Epoch 176/300\n",
            "25/25 [==============================] - 7s 270ms/step - loss: 1.4529e-04 - val_loss: 5.2207e-04\n",
            "Epoch 177/300\n",
            "25/25 [==============================] - 7s 271ms/step - loss: 1.4072e-04 - val_loss: 0.0010\n",
            "Epoch 178/300\n",
            "25/25 [==============================] - 7s 268ms/step - loss: 1.4167e-04 - val_loss: 6.2168e-04\n",
            "Epoch 179/300\n",
            "25/25 [==============================] - 7s 267ms/step - loss: 1.6193e-04 - val_loss: 0.0030\n",
            "Epoch 180/300\n",
            "25/25 [==============================] - 7s 268ms/step - loss: 1.4656e-04 - val_loss: 9.7753e-04\n",
            "Epoch 181/300\n",
            "25/25 [==============================] - 7s 267ms/step - loss: 1.5602e-04 - val_loss: 5.3167e-04\n",
            "Epoch 182/300\n",
            "25/25 [==============================] - 7s 268ms/step - loss: 1.6359e-04 - val_loss: 4.1438e-04\n",
            "Epoch 183/300\n",
            "25/25 [==============================] - 7s 266ms/step - loss: 1.5072e-04 - val_loss: 0.0011\n",
            "Epoch 184/300\n",
            "25/25 [==============================] - 7s 269ms/step - loss: 1.3583e-04 - val_loss: 6.2000e-04\n",
            "Epoch 185/300\n",
            "25/25 [==============================] - 7s 272ms/step - loss: 1.3686e-04 - val_loss: 4.8018e-04\n",
            "Epoch 186/300\n",
            "25/25 [==============================] - 7s 268ms/step - loss: 1.4975e-04 - val_loss: 4.3768e-04\n",
            "Epoch 187/300\n",
            "25/25 [==============================] - 7s 267ms/step - loss: 1.4964e-04 - val_loss: 7.5129e-04\n",
            "Epoch 188/300\n",
            "25/25 [==============================] - 7s 269ms/step - loss: 1.4376e-04 - val_loss: 0.0018\n",
            "Epoch 189/300\n",
            "25/25 [==============================] - 7s 270ms/step - loss: 1.4374e-04 - val_loss: 0.0038\n",
            "Epoch 190/300\n",
            "25/25 [==============================] - 7s 268ms/step - loss: 1.4831e-04 - val_loss: 4.0197e-04\n",
            "Epoch 191/300\n",
            "25/25 [==============================] - 7s 268ms/step - loss: 1.3868e-04 - val_loss: 0.0017\n",
            "Epoch 192/300\n",
            "25/25 [==============================] - 7s 268ms/step - loss: 1.4526e-04 - val_loss: 9.7899e-04\n",
            "Epoch 193/300\n",
            "25/25 [==============================] - 7s 267ms/step - loss: 1.3435e-04 - val_loss: 8.2607e-04\n",
            "Epoch 194/300\n",
            "25/25 [==============================] - 7s 269ms/step - loss: 1.5051e-04 - val_loss: 7.4286e-04\n",
            "Epoch 195/300\n",
            "25/25 [==============================] - 7s 271ms/step - loss: 1.3812e-04 - val_loss: 0.0012\n",
            "Epoch 196/300\n",
            "25/25 [==============================] - 7s 271ms/step - loss: 1.5300e-04 - val_loss: 5.7594e-04\n",
            "Epoch 197/300\n",
            "25/25 [==============================] - 7s 275ms/step - loss: 1.5156e-04 - val_loss: 3.0544e-04\n",
            "Epoch 198/300\n",
            "25/25 [==============================] - 7s 279ms/step - loss: 1.4266e-04 - val_loss: 8.4115e-04\n",
            "Epoch 199/300\n",
            "25/25 [==============================] - 7s 278ms/step - loss: 1.3217e-04 - val_loss: 0.0016\n",
            "Epoch 200/300\n",
            "25/25 [==============================] - 8s 326ms/step - loss: 1.3654e-04 - val_loss: 5.1229e-04\n",
            "Epoch 201/300\n",
            "25/25 [==============================] - 7s 278ms/step - loss: 1.4174e-04 - val_loss: 4.0523e-04\n",
            "Epoch 202/300\n",
            "25/25 [==============================] - 7s 278ms/step - loss: 1.4708e-04 - val_loss: 4.2456e-04\n",
            "Epoch 203/300\n",
            "25/25 [==============================] - 7s 277ms/step - loss: 1.4889e-04 - val_loss: 0.0011\n",
            "Epoch 204/300\n",
            "25/25 [==============================] - 7s 275ms/step - loss: 1.4529e-04 - val_loss: 8.3865e-04\n",
            "Epoch 205/300\n",
            "25/25 [==============================] - 7s 277ms/step - loss: 1.5005e-04 - val_loss: 0.0013\n",
            "Epoch 206/300\n",
            "25/25 [==============================] - 7s 278ms/step - loss: 1.6807e-04 - val_loss: 8.5053e-04\n",
            "Epoch 207/300\n",
            "25/25 [==============================] - 7s 277ms/step - loss: 1.4490e-04 - val_loss: 3.2193e-04\n",
            "Epoch 208/300\n",
            "25/25 [==============================] - 7s 273ms/step - loss: 1.4071e-04 - val_loss: 3.2746e-04\n",
            "Epoch 209/300\n",
            "25/25 [==============================] - 7s 274ms/step - loss: 1.4755e-04 - val_loss: 3.3836e-04\n",
            "Epoch 210/300\n",
            "25/25 [==============================] - 7s 272ms/step - loss: 1.4769e-04 - val_loss: 3.1707e-04\n",
            "Epoch 211/300\n",
            "25/25 [==============================] - 7s 273ms/step - loss: 1.7950e-04 - val_loss: 8.4374e-04\n",
            "Epoch 212/300\n",
            "25/25 [==============================] - 7s 272ms/step - loss: 1.7552e-04 - val_loss: 3.0697e-04\n",
            "Epoch 213/300\n",
            "25/25 [==============================] - 7s 272ms/step - loss: 1.3194e-04 - val_loss: 5.9219e-04\n",
            "Epoch 214/300\n",
            "25/25 [==============================] - 7s 271ms/step - loss: 1.5902e-04 - val_loss: 3.5423e-04\n",
            "Epoch 215/300\n",
            "25/25 [==============================] - 7s 274ms/step - loss: 1.3872e-04 - val_loss: 4.7758e-04\n",
            "Epoch 216/300\n",
            "25/25 [==============================] - 7s 271ms/step - loss: 1.4331e-04 - val_loss: 3.2769e-04\n",
            "Epoch 217/300\n",
            "25/25 [==============================] - 7s 274ms/step - loss: 1.5012e-04 - val_loss: 8.6878e-04\n",
            "Epoch 218/300\n",
            "25/25 [==============================] - 7s 271ms/step - loss: 1.4852e-04 - val_loss: 0.0011\n",
            "Epoch 219/300\n",
            "25/25 [==============================] - 7s 269ms/step - loss: 1.4394e-04 - val_loss: 3.3330e-04\n",
            "Epoch 220/300\n",
            "25/25 [==============================] - 7s 269ms/step - loss: 1.4515e-04 - val_loss: 4.3874e-04\n",
            "Epoch 221/300\n",
            "25/25 [==============================] - 7s 271ms/step - loss: 1.5154e-04 - val_loss: 4.3050e-04\n",
            "Epoch 222/300\n",
            "25/25 [==============================] - 7s 269ms/step - loss: 1.5102e-04 - val_loss: 5.4910e-04\n",
            "Epoch 223/300\n",
            "25/25 [==============================] - 7s 269ms/step - loss: 2.1708e-04 - val_loss: 3.3204e-04\n",
            "Epoch 224/300\n",
            "25/25 [==============================] - 7s 272ms/step - loss: 1.6625e-04 - val_loss: 6.3687e-04\n",
            "Epoch 225/300\n",
            "25/25 [==============================] - 7s 271ms/step - loss: 1.3751e-04 - val_loss: 3.6781e-04\n",
            "Epoch 226/300\n",
            "25/25 [==============================] - 7s 270ms/step - loss: 1.9280e-04 - val_loss: 0.0018\n",
            "Epoch 227/300\n",
            "25/25 [==============================] - 7s 272ms/step - loss: 1.4833e-04 - val_loss: 6.1576e-04\n",
            "Epoch 228/300\n",
            "25/25 [==============================] - 7s 271ms/step - loss: 1.4173e-04 - val_loss: 4.3995e-04\n",
            "Epoch 229/300\n",
            "25/25 [==============================] - 7s 271ms/step - loss: 1.5819e-04 - val_loss: 0.0013\n",
            "Epoch 230/300\n",
            "25/25 [==============================] - 7s 269ms/step - loss: 1.5723e-04 - val_loss: 0.0016\n",
            "Epoch 231/300\n",
            "25/25 [==============================] - 7s 268ms/step - loss: 1.4690e-04 - val_loss: 0.0012\n",
            "Epoch 232/300\n",
            "25/25 [==============================] - 7s 266ms/step - loss: 1.4807e-04 - val_loss: 3.6652e-04\n",
            "Epoch 233/300\n",
            "25/25 [==============================] - 7s 271ms/step - loss: 1.4591e-04 - val_loss: 6.2596e-04\n",
            "Epoch 234/300\n",
            "25/25 [==============================] - 7s 271ms/step - loss: 1.6137e-04 - val_loss: 8.7575e-04\n",
            "Epoch 235/300\n",
            "25/25 [==============================] - 7s 273ms/step - loss: 1.6068e-04 - val_loss: 6.5508e-04\n",
            "Epoch 236/300\n",
            "25/25 [==============================] - 7s 269ms/step - loss: 1.3103e-04 - val_loss: 3.6190e-04\n",
            "Epoch 237/300\n",
            "25/25 [==============================] - 7s 272ms/step - loss: 1.4102e-04 - val_loss: 5.2150e-04\n",
            "Epoch 238/300\n",
            "25/25 [==============================] - 7s 272ms/step - loss: 1.4254e-04 - val_loss: 3.9834e-04\n",
            "Epoch 239/300\n",
            "25/25 [==============================] - 7s 271ms/step - loss: 1.3958e-04 - val_loss: 7.3626e-04\n",
            "Epoch 240/300\n",
            "25/25 [==============================] - 7s 272ms/step - loss: 1.3591e-04 - val_loss: 4.2858e-04\n",
            "Epoch 241/300\n",
            "25/25 [==============================] - 7s 273ms/step - loss: 1.3675e-04 - val_loss: 9.9985e-04\n",
            "Epoch 242/300\n",
            "25/25 [==============================] - 7s 271ms/step - loss: 1.4030e-04 - val_loss: 3.9873e-04\n",
            "Epoch 243/300\n",
            "25/25 [==============================] - 7s 271ms/step - loss: 1.4308e-04 - val_loss: 5.4520e-04\n",
            "Epoch 244/300\n",
            "25/25 [==============================] - 7s 271ms/step - loss: 1.4868e-04 - val_loss: 4.4265e-04\n",
            "Epoch 245/300\n",
            "25/25 [==============================] - 7s 290ms/step - loss: 1.5571e-04 - val_loss: 8.3810e-04\n",
            "Epoch 246/300\n",
            "25/25 [==============================] - 7s 283ms/step - loss: 1.3784e-04 - val_loss: 6.5580e-04\n",
            "Epoch 247/300\n",
            "25/25 [==============================] - 7s 272ms/step - loss: 1.4207e-04 - val_loss: 7.2987e-04\n",
            "Epoch 248/300\n",
            "25/25 [==============================] - 7s 269ms/step - loss: 1.4218e-04 - val_loss: 8.0958e-04\n",
            "Epoch 249/300\n",
            "25/25 [==============================] - 7s 272ms/step - loss: 1.4531e-04 - val_loss: 8.5600e-04\n",
            "Epoch 250/300\n",
            "25/25 [==============================] - 7s 265ms/step - loss: 1.4312e-04 - val_loss: 6.8214e-04\n",
            "Epoch 251/300\n",
            "25/25 [==============================] - 7s 270ms/step - loss: 1.3823e-04 - val_loss: 5.9475e-04\n",
            "Epoch 252/300\n",
            "25/25 [==============================] - 7s 269ms/step - loss: 1.3724e-04 - val_loss: 0.0024\n",
            "Epoch 253/300\n",
            "25/25 [==============================] - 7s 270ms/step - loss: 1.4743e-04 - val_loss: 7.8547e-04\n",
            "Epoch 254/300\n",
            "25/25 [==============================] - 7s 265ms/step - loss: 1.3955e-04 - val_loss: 0.0015\n",
            "Epoch 255/300\n",
            "25/25 [==============================] - 7s 266ms/step - loss: 1.5500e-04 - val_loss: 9.5315e-04\n",
            "Epoch 256/300\n",
            "25/25 [==============================] - 7s 265ms/step - loss: 1.4258e-04 - val_loss: 0.0015\n",
            "Epoch 257/300\n",
            "25/25 [==============================] - 7s 269ms/step - loss: 1.3686e-04 - val_loss: 0.0015\n",
            "Epoch 258/300\n",
            "25/25 [==============================] - 7s 266ms/step - loss: 1.5795e-04 - val_loss: 9.8054e-04\n",
            "Epoch 259/300\n",
            "25/25 [==============================] - 7s 266ms/step - loss: 1.4696e-04 - val_loss: 0.0013\n",
            "Epoch 260/300\n",
            "25/25 [==============================] - 7s 268ms/step - loss: 1.4033e-04 - val_loss: 0.0021\n",
            "Epoch 261/300\n",
            "25/25 [==============================] - 7s 266ms/step - loss: 1.4697e-04 - val_loss: 0.0032\n",
            "Epoch 262/300\n",
            "25/25 [==============================] - 7s 267ms/step - loss: 1.6142e-04 - val_loss: 0.0013\n",
            "Epoch 263/300\n",
            "25/25 [==============================] - 7s 269ms/step - loss: 1.4265e-04 - val_loss: 0.0016\n",
            "Epoch 264/300\n",
            "25/25 [==============================] - 7s 267ms/step - loss: 1.3030e-04 - val_loss: 0.0027\n",
            "Epoch 265/300\n",
            "25/25 [==============================] - 7s 266ms/step - loss: 1.3796e-04 - val_loss: 0.0011\n",
            "Epoch 266/300\n",
            "25/25 [==============================] - 7s 268ms/step - loss: 1.3787e-04 - val_loss: 0.0020\n",
            "Epoch 267/300\n",
            "25/25 [==============================] - 7s 265ms/step - loss: 1.4386e-04 - val_loss: 0.0013\n",
            "Epoch 268/300\n",
            "25/25 [==============================] - 7s 267ms/step - loss: 1.3884e-04 - val_loss: 0.0024\n",
            "Epoch 269/300\n",
            "25/25 [==============================] - 7s 271ms/step - loss: 1.3453e-04 - val_loss: 0.0024\n",
            "Epoch 270/300\n",
            "25/25 [==============================] - 7s 269ms/step - loss: 1.5416e-04 - val_loss: 0.0040\n",
            "Epoch 271/300\n",
            "25/25 [==============================] - 7s 269ms/step - loss: 1.5218e-04 - val_loss: 0.0027\n",
            "Epoch 272/300\n",
            "25/25 [==============================] - 7s 270ms/step - loss: 1.3493e-04 - val_loss: 0.0046\n",
            "Epoch 273/300\n",
            "25/25 [==============================] - 7s 271ms/step - loss: 1.2982e-04 - val_loss: 0.0056\n",
            "Epoch 274/300\n",
            "25/25 [==============================] - 7s 270ms/step - loss: 1.3842e-04 - val_loss: 0.0049\n",
            "Epoch 275/300\n",
            "25/25 [==============================] - 7s 272ms/step - loss: 1.4939e-04 - val_loss: 0.0037\n",
            "Epoch 276/300\n",
            "25/25 [==============================] - 7s 267ms/step - loss: 1.3590e-04 - val_loss: 0.0075\n",
            "Epoch 277/300\n",
            "25/25 [==============================] - 7s 270ms/step - loss: 1.5814e-04 - val_loss: 0.0019\n",
            "Epoch 278/300\n",
            "25/25 [==============================] - 7s 270ms/step - loss: 1.7210e-04 - val_loss: 0.0032\n",
            "Epoch 279/300\n",
            "25/25 [==============================] - 7s 269ms/step - loss: 1.8820e-04 - val_loss: 0.0035\n",
            "Epoch 280/300\n",
            "25/25 [==============================] - 7s 270ms/step - loss: 1.6764e-04 - val_loss: 0.0025\n",
            "Epoch 281/300\n",
            "25/25 [==============================] - 7s 271ms/step - loss: 1.4424e-04 - val_loss: 0.0040\n",
            "Epoch 282/300\n",
            "25/25 [==============================] - 7s 273ms/step - loss: 1.5483e-04 - val_loss: 0.0054\n",
            "Epoch 283/300\n",
            "25/25 [==============================] - 7s 272ms/step - loss: 1.3976e-04 - val_loss: 0.0048\n",
            "Epoch 284/300\n",
            "25/25 [==============================] - 8s 317ms/step - loss: 1.3388e-04 - val_loss: 0.0039\n",
            "Epoch 285/300\n",
            "25/25 [==============================] - 7s 271ms/step - loss: 1.4089e-04 - val_loss: 0.0034\n",
            "Epoch 286/300\n",
            "25/25 [==============================] - 7s 273ms/step - loss: 1.4307e-04 - val_loss: 0.0036\n",
            "Epoch 287/300\n",
            "25/25 [==============================] - 7s 272ms/step - loss: 1.3782e-04 - val_loss: 0.0095\n",
            "Epoch 288/300\n",
            "25/25 [==============================] - 7s 273ms/step - loss: 1.3650e-04 - val_loss: 0.0092\n",
            "Epoch 289/300\n",
            "25/25 [==============================] - 7s 272ms/step - loss: 1.4374e-04 - val_loss: 0.0084\n",
            "Epoch 290/300\n",
            "25/25 [==============================] - 7s 272ms/step - loss: 1.4297e-04 - val_loss: 0.0117\n",
            "Epoch 291/300\n",
            "25/25 [==============================] - 7s 273ms/step - loss: 1.3459e-04 - val_loss: 0.0047\n",
            "Epoch 292/300\n",
            "25/25 [==============================] - 7s 271ms/step - loss: 1.4693e-04 - val_loss: 0.0053\n",
            "Epoch 293/300\n",
            "25/25 [==============================] - 7s 268ms/step - loss: 1.7023e-04 - val_loss: 0.0062\n",
            "Epoch 294/300\n",
            "25/25 [==============================] - 7s 267ms/step - loss: 1.4211e-04 - val_loss: 0.0115\n",
            "Epoch 295/300\n",
            "25/25 [==============================] - 7s 270ms/step - loss: 1.4903e-04 - val_loss: 0.0063\n",
            "Epoch 296/300\n",
            "25/25 [==============================] - 7s 268ms/step - loss: 1.3486e-04 - val_loss: 0.0063\n",
            "Epoch 297/300\n",
            "25/25 [==============================] - 7s 268ms/step - loss: 1.4440e-04 - val_loss: 0.0059\n",
            "Epoch 298/300\n",
            "25/25 [==============================] - 7s 270ms/step - loss: 1.5928e-04 - val_loss: 0.0079\n",
            "Epoch 299/300\n",
            "25/25 [==============================] - 7s 268ms/step - loss: 1.4258e-04 - val_loss: 0.0065\n",
            "Epoch 300/300\n",
            "25/25 [==============================] - 7s 267ms/step - loss: 1.3378e-04 - val_loss: 0.0108\n"
          ]
        },
        {
          "output_type": "execute_result",
          "data": {
            "text/plain": [
              "<keras.callbacks.History at 0x7ff881f5cc10>"
            ]
          },
          "metadata": {},
          "execution_count": 34
        }
      ]
    },
    {
      "cell_type": "code",
      "source": [
        "#Saving the model\n",
        "model.save('timeseries_lstm_30.h5')"
      ],
      "metadata": {
        "id": "r83KgIzZfhN1"
      },
      "execution_count": 35,
      "outputs": []
    },
    {
      "cell_type": "code",
      "source": [
        "#Loading the model\n",
        "#from tensorflow import keras\n",
        "#model = keras.models.load_model('timeseries_lstm_30.h5')"
      ],
      "metadata": {
        "id": "v6RsutxM4rEH"
      },
      "execution_count": 36,
      "outputs": []
    },
    {
      "cell_type": "markdown",
      "source": [
        "<b>To obtain values for the last 30 days, we create a sequence of values to obtain the output</b>"
      ],
      "metadata": {
        "id": "apZmQ28cVJEm"
      }
    },
    {
      "cell_type": "code",
      "source": [
        "num_days=30\n",
        "\n",
        "#Initial input\n",
        "input=data[-30:]\n",
        "\n",
        "#To store the values of the last 30 days\n",
        "predicted=[]\n",
        "\n",
        "\n",
        "for num in range(num_days):\n",
        "  #Predicted value by the model\n",
        "  pred=model.predict(np.expand_dims(input,axis=0))\n",
        "  \n",
        "  #Adding to the list\n",
        "  predicted.append(pred[0])\n",
        "\n",
        "  #Reshaping the input to keep the loop working\n",
        "  input=list(input.reshape(1,30)[0])\n",
        "  input=input[1:]\n",
        "  input.append(pred[0][0])\n",
        "  input=np.array(input)\n",
        "  input=input.reshape(30,1)\n"
      ],
      "metadata": {
        "id": "kaxT7qD0xCXZ"
      },
      "execution_count": 37,
      "outputs": []
    },
    {
      "cell_type": "code",
      "source": [
        "#Transform the predicted value into actual values by transforming the values to the original data\n",
        "predicted=scaler.inverse_transform(predicted)"
      ],
      "metadata": {
        "id": "1qJkSUOGWDET"
      },
      "execution_count": 45,
      "outputs": []
    },
    {
      "cell_type": "code",
      "source": [
        "new_pred=list(predicted.reshape(1,30))"
      ],
      "metadata": {
        "id": "DAhcLYF3Pdaz"
      },
      "execution_count": 46,
      "outputs": []
    },
    {
      "cell_type": "code",
      "source": [
        "#Converting the array into a list\n",
        "new_pred[0]"
      ],
      "metadata": {
        "colab": {
          "base_uri": "https://localhost:8080/"
        },
        "id": "MlksQhjRpnOd",
        "outputId": "209c84e0-b7cf-4e68-e748-ef6e8dcc72bf"
      },
      "execution_count": 47,
      "outputs": [
        {
          "output_type": "execute_result",
          "data": {
            "text/plain": [
              "array([15566.89720617, 13832.4092074 , 12453.93146571, 11737.61500305,\n",
              "       11521.42920701, 11635.65285915, 11970.71449732, 12447.77626047,\n",
              "       13002.64407978, 13585.32334837, 14156.69518821, 14681.37089351,\n",
              "       15121.68472767, 15435.18177301, 15578.57544993, 15519.2657758 ,\n",
              "       15252.42017287, 14814.43745348, 14281.40108426, 13748.10692574,\n",
              "       13298.18040075, 12982.43450004, 12816.04867349, 12787.98720745,\n",
              "       12873.79606676, 13045.47369872, 13277.1271764 , 13546.34664307,\n",
              "       13832.88786642, 14118.56374681])"
            ]
          },
          "metadata": {},
          "execution_count": 47
        }
      ]
    },
    {
      "cell_type": "code",
      "source": [
        "#Storing all the values into a list\n",
        "outp=list(data1['Adj Close'])+(list(new_pred[0]))"
      ],
      "metadata": {
        "id": "zurnbbejrFB4"
      },
      "execution_count": 63,
      "outputs": []
    },
    {
      "cell_type": "markdown",
      "source": [
        "<b>Visualising the predicted values</b>"
      ],
      "metadata": {
        "id": "5SkdZyU-WCHe"
      }
    },
    {
      "cell_type": "code",
      "source": [
        "plt.plot(outp,label='Adj Closing Price')\n",
        "plt.vlines(x=1167,ymin=0,ymax=18000,linestyles='dashed',colors='red',label='Point of prediction')\n",
        "plt.title('Given value and predicted value')\n",
        "plt.legend()\n",
        "plt.show()"
      ],
      "metadata": {
        "colab": {
          "base_uri": "https://localhost:8080/",
          "height": 281
        },
        "id": "6Kz1NbzbU0ES",
        "outputId": "82b09dff-5b78-43fb-dde4-e2887d9270fe"
      },
      "execution_count": 71,
      "outputs": [
        {
          "output_type": "display_data",
          "data": {
            "text/plain": [
              "<Figure size 432x288 with 1 Axes>"
            ],
            "image/png": "[encoded data removed]"
          },
          "metadata": {
            "needs_background": "light"
          }
        }
      ]
    }
  ]
}